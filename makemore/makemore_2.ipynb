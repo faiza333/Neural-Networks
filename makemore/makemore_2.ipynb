{
  "nbformat": 4,
  "nbformat_minor": 0,
  "metadata": {
    "colab": {
      "provenance": []
    },
    "kernelspec": {
      "name": "python3",
      "display_name": "Python 3"
    },
    "language_info": {
      "name": "python"
    },
    "accelerator": "GPU",
    "gpuClass": "standard"
  },
  "cells": [
    {
      "cell_type": "markdown",
      "source": [
        "### Andrej here Countiou building the makemore and he implement this [paper](https://www.jmlr.org/papers/volume3/bengio03a/bengio03a.pdf) but we will work on characters level gives 3 characters and predict the forth while in the paper workes on word level using data set of 170000 word, \n",
        "- Here we will work on data set of 32000 name\n"
      ],
      "metadata": {
        "id": "26PN-7tFfiWp"
      }
    },
    {
      "cell_type": "code",
      "execution_count": 1,
      "metadata": {
        "colab": {
          "base_uri": "https://localhost:8080/"
        },
        "id": "TYAwv8dOEeSZ",
        "outputId": "e67787f1-b56c-4c28-ace7-0cff7ff5373a"
      },
      "outputs": [
        {
          "output_type": "stream",
          "name": "stdout",
          "text": [
            "--2022-12-03 20:36:01--  https://raw.githubusercontent.com/karpathy/makemore/master/names.txt\n",
            "Resolving raw.githubusercontent.com (raw.githubusercontent.com)... 185.199.108.133, 185.199.109.133, 185.199.110.133, ...\n",
            "Connecting to raw.githubusercontent.com (raw.githubusercontent.com)|185.199.108.133|:443... connected.\n",
            "HTTP request sent, awaiting response... 200 OK\n",
            "Length: 228145 (223K) [text/plain]\n",
            "Saving to: ‘names.txt.1’\n",
            "\n",
            "names.txt.1         100%[===================>] 222.80K  --.-KB/s    in 0.004s  \n",
            "\n",
            "2022-12-03 20:36:01 (50.6 MB/s) - ‘names.txt.1’ saved [228145/228145]\n",
            "\n"
          ]
        }
      ],
      "source": [
        "!wget https://raw.githubusercontent.com/karpathy/makemore/master/names.txt"
      ]
    },
    {
      "cell_type": "code",
      "source": [
        "import torch\n",
        "import torch.nn.functional as F\n",
        "import matplotlib.pyplot as plt # for making figures\n",
        "%matplotlib inline\n"
      ],
      "metadata": {
        "id": "_0TrxNs0EoTU"
      },
      "execution_count": 2,
      "outputs": []
    },
    {
      "cell_type": "code",
      "source": [
        "# read in all the words\n",
        "words = open('names.txt', 'r').read().splitlines()\n",
        "words[:8]"
      ],
      "metadata": {
        "colab": {
          "base_uri": "https://localhost:8080/"
        },
        "id": "ZvOpYwShEwsn",
        "outputId": "f405024e-1e5f-4014-b153-4ac081229f89"
      },
      "execution_count": 3,
      "outputs": [
        {
          "output_type": "execute_result",
          "data": {
            "text/plain": [
              "['emma', 'olivia', 'ava', 'isabella', 'sophia', 'charlotte', 'mia', 'amelia']"
            ]
          },
          "metadata": {},
          "execution_count": 3
        }
      ]
    },
    {
      "cell_type": "code",
      "source": [
        "# build the vocabulary of characters and mappings to/from integers\n",
        "chars = sorted(list(set(''.join(words))))\n",
        "stoi = {s:i+1 for i,s in enumerate(chars)}\n",
        "stoi['.'] = 0\n",
        "itos = {i:s for s,i in stoi.items()}\n",
        "print(itos)\n"
      ],
      "metadata": {
        "colab": {
          "base_uri": "https://localhost:8080/"
        },
        "id": "3M4yeEk1E3a4",
        "outputId": "111bdbd3-a246-4db7-b77a-0a41ec7273f9"
      },
      "execution_count": 4,
      "outputs": [
        {
          "output_type": "stream",
          "name": "stdout",
          "text": [
            "{1: 'a', 2: 'b', 3: 'c', 4: 'd', 5: 'e', 6: 'f', 7: 'g', 8: 'h', 9: 'i', 10: 'j', 11: 'k', 12: 'l', 13: 'm', 14: 'n', 15: 'o', 16: 'p', 17: 'q', 18: 'r', 19: 's', 20: 't', 21: 'u', 22: 'v', 23: 'w', 24: 'x', 25: 'y', 26: 'z', 0: '.'}\n"
          ]
        }
      ]
    },
    {
      "cell_type": "code",
      "source": [
        "itos[5]"
      ],
      "metadata": {
        "colab": {
          "base_uri": "https://localhost:8080/",
          "height": 38
        },
        "id": "di_mRYp6Htrz",
        "outputId": "ab99c70f-8c17-4c5d-96f1-e6013f8a35cb"
      },
      "execution_count": 5,
      "outputs": [
        {
          "output_type": "execute_result",
          "data": {
            "text/plain": [
              "'e'"
            ],
            "application/vnd.google.colaboratory.intrinsic+json": {
              "type": "string"
            }
          },
          "metadata": {},
          "execution_count": 5
        }
      ]
    },
    {
      "cell_type": "markdown",
      "source": [
        "# Building our training **datase**"
      ],
      "metadata": {
        "id": "qDU6xOuYJfgH"
      }
    },
    {
      "cell_type": "code",
      "source": [
        "# build the dataset\n",
        "\n",
        "block_size = 3 # context length: how many characters do we take to predict the next one?\n",
        "X, Y = [], []\n",
        "for w in words:\n",
        "  \n",
        "  #print(w)\n",
        "  context = [0] * block_size                    #padded context of just zeros tokens\n",
        "  for ch in w + '.':\n",
        "    ix = stoi[ch]                               #get the ch in the sequance\n",
        "    X.append(context)\n",
        "    Y.append(ix)\n",
        "    #print(''.join(itos[i] for i in context), '--->', itos[ix])\n",
        "    context = context[1:] + [ix] # crop and append, [0,0,0] ---> [0,0,5], just remove the first element and took\n",
        "                                                                           # the last 2 and add the new ix to it \n",
        "X = torch.tensor(X)\n",
        "Y = torch.tensor(Y)\n"
      ],
      "metadata": {
        "id": "hJ3jrSlAE_pD"
      },
      "execution_count": 58,
      "outputs": []
    },
    {
      "cell_type": "code",
      "source": [
        "X.shape, X.dtype, Y.shape, Y.dtype"
      ],
      "metadata": {
        "colab": {
          "base_uri": "https://localhost:8080/"
        },
        "id": "1wIe4ZU4HLIv",
        "outputId": "a169a99f-dfe7-4fbd-98fd-3a659496e440"
      },
      "execution_count": 59,
      "outputs": [
        {
          "output_type": "execute_result",
          "data": {
            "text/plain": [
              "(torch.Size([228146, 3]), torch.int64, torch.Size([228146]), torch.int64)"
            ]
          },
          "metadata": {},
          "execution_count": 59
        }
      ]
    },
    {
      "cell_type": "code",
      "source": [
        "X"
      ],
      "metadata": {
        "colab": {
          "base_uri": "https://localhost:8080/"
        },
        "id": "SjPA0gkJJ3wg",
        "outputId": "22a78be7-7c74-4cd4-da1f-899076133b37"
      },
      "execution_count": 8,
      "outputs": [
        {
          "output_type": "execute_result",
          "data": {
            "text/plain": [
              "tensor([[ 0,  0,  0],\n",
              "        [ 0,  0,  5],\n",
              "        [ 0,  5, 13],\n",
              "        [ 5, 13, 13],\n",
              "        [13, 13,  1]])"
            ]
          },
          "metadata": {},
          "execution_count": 8
        }
      ]
    },
    {
      "cell_type": "code",
      "source": [
        "Y"
      ],
      "metadata": {
        "colab": {
          "base_uri": "https://localhost:8080/"
        },
        "id": "WEFAvEGQJ_6o",
        "outputId": "227b1d1a-7b57-450d-dd9b-d48c4a6b33c3"
      },
      "execution_count": 9,
      "outputs": [
        {
          "output_type": "execute_result",
          "data": {
            "text/plain": [
              "tensor([ 5, 13, 13,  1,  0])"
            ]
          },
          "metadata": {},
          "execution_count": 9
        }
      ]
    },
    {
      "cell_type": "markdown",
      "source": [
        "# Implementing the embedding lookup table\n",
        "- we have 27 possible char and we are going to empedd them in lower dimensional space, we will start with two_dim space, so we will start by random numbers (27, 2), so each one of the of the 27 char will have two dimensioal empedding \n",
        "(while in the paper we have 27000 word and they embedd them into 30 lower dimesnional space)."
      ],
      "metadata": {
        "id": "9akDkw4NT7rt"
      }
    },
    {
      "cell_type": "code",
      "source": [
        "C = torch.randn(27, 2)"
      ],
      "metadata": {
        "id": "iWPyRfBYKFkE"
      },
      "execution_count": 10,
      "outputs": []
    },
    {
      "cell_type": "code",
      "source": [
        "C"
      ],
      "metadata": {
        "colab": {
          "base_uri": "https://localhost:8080/"
        },
        "id": "F8VGDOTWVflH",
        "outputId": "588c6050-40b9-4411-faa5-bb768f876cae"
      },
      "execution_count": 11,
      "outputs": [
        {
          "output_type": "execute_result",
          "data": {
            "text/plain": [
              "tensor([[-1.0522,  0.2530],\n",
              "        [-0.1251, -1.2474],\n",
              "        [-1.7475,  0.1838],\n",
              "        [ 0.4970, -1.3689],\n",
              "        [-1.1218, -0.6679],\n",
              "        [-0.1889,  1.5595],\n",
              "        [ 0.9180, -0.8033],\n",
              "        [-1.2013, -0.2322],\n",
              "        [ 0.4124, -0.2365],\n",
              "        [ 1.8675,  1.0540],\n",
              "        [ 0.6034, -0.6710],\n",
              "        [ 0.0872, -0.7608],\n",
              "        [-0.5289, -0.4357],\n",
              "        [-0.8474, -0.2539],\n",
              "        [-1.0801,  0.2615],\n",
              "        [ 1.4573, -0.1292],\n",
              "        [-0.0157, -1.3866],\n",
              "        [ 0.4416,  0.6302],\n",
              "        [ 0.8431,  0.9441],\n",
              "        [ 0.3021,  0.4908],\n",
              "        [ 1.0601, -0.6856],\n",
              "        [-0.1656,  0.0749],\n",
              "        [ 0.7490, -0.0637],\n",
              "        [ 1.3321,  0.3053],\n",
              "        [-0.3365, -1.4840],\n",
              "        [ 0.7814, -1.2887],\n",
              "        [-1.2712,  0.6568]])"
            ]
          },
          "metadata": {},
          "execution_count": 11
        }
      ]
    },
    {
      "cell_type": "markdown",
      "source": [
        "# Embedd the numbers inside the input x\n",
        "we want to embedd all the numbers inside the input x using lookup table c there is two ways:\n",
        "- C[5] so simply it will gives you the fifth item of c\n",
        "- Using one hot encoding: so 27 dim of all zeros except the fifth bit which turn on anf don't forget you gotta pass to it a tensor as well."
      ],
      "metadata": {
        "id": "U-7MAEYbWXGG"
      }
    },
    {
      "cell_type": "code",
      "source": [
        "C[5]"
      ],
      "metadata": {
        "colab": {
          "base_uri": "https://localhost:8080/"
        },
        "id": "gkooije6Vm5i",
        "outputId": "4b964fd0-f048-4fdf-d7e6-633b2b00d353"
      },
      "execution_count": 12,
      "outputs": [
        {
          "output_type": "execute_result",
          "data": {
            "text/plain": [
              "tensor([-0.1889,  1.5595])"
            ]
          },
          "metadata": {},
          "execution_count": 12
        }
      ]
    },
    {
      "cell_type": "code",
      "source": [
        "F.one_hot(torch.tensor(5), num_classes = 27).dtype"
      ],
      "metadata": {
        "colab": {
          "base_uri": "https://localhost:8080/"
        },
        "id": "jze8wlSyV-gy",
        "outputId": "2d803b6b-3b1e-4fe3-e120-bad5755e6d40"
      },
      "execution_count": 13,
      "outputs": [
        {
          "output_type": "execute_result",
          "data": {
            "text/plain": [
              "torch.int64"
            ]
          },
          "metadata": {},
          "execution_count": 13
        }
      ]
    },
    {
      "cell_type": "code",
      "source": [
        "#have to convert to float cos one hot return int64 while randn return float32\n",
        "F.one_hot(torch.tensor(5), num_classes = 27).float() @ C    # gives the same result as C[5] "
      ],
      "metadata": {
        "colab": {
          "base_uri": "https://localhost:8080/"
        },
        "id": "LKObwZpjX2_5",
        "outputId": "7237442b-d409-4696-b57e-dcec8f9524d1"
      },
      "execution_count": 14,
      "outputs": [
        {
          "output_type": "execute_result",
          "data": {
            "text/plain": [
              "tensor([-0.1889,  1.5595])"
            ]
          },
          "metadata": {},
          "execution_count": 14
        }
      ]
    },
    {
      "cell_type": "markdown",
      "source": [
        "# We can interpret this the first piece the empedding of the integers either:\n",
        "- look at it as integer index into a lookup table c \n",
        "- or think of this piece as first layer of the NN, and this layer as no non_linearity function like tanh, there is just linear neurons and the weight matrix is C, then encoding integers into one_hot then feeding it into NN\n",
        "\n",
        "### We will go with index the first one cos it's faster"
      ],
      "metadata": {
        "id": "oJAmMMfuaZ_h"
      }
    },
    {
      "cell_type": "markdown",
      "source": [
        "![image.png](data:image/png;base64,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)"
      ],
      "metadata": {
        "id": "ZpYNcTIzaU5Z"
      }
    },
    {
      "cell_type": "code",
      "source": [
        "C[X]"
      ],
      "metadata": {
        "colab": {
          "base_uri": "https://localhost:8080/"
        },
        "id": "HYfvC9FkYa1t",
        "outputId": "bd60a635-a3bd-4df1-8106-e0bb83878142"
      },
      "execution_count": 15,
      "outputs": [
        {
          "output_type": "execute_result",
          "data": {
            "text/plain": [
              "tensor([[[-1.0522,  0.2530],\n",
              "         [-1.0522,  0.2530],\n",
              "         [-1.0522,  0.2530]],\n",
              "\n",
              "        [[-1.0522,  0.2530],\n",
              "         [-1.0522,  0.2530],\n",
              "         [-0.1889,  1.5595]],\n",
              "\n",
              "        [[-1.0522,  0.2530],\n",
              "         [-0.1889,  1.5595],\n",
              "         [-0.8474, -0.2539]],\n",
              "\n",
              "        [[-0.1889,  1.5595],\n",
              "         [-0.8474, -0.2539],\n",
              "         [-0.8474, -0.2539]],\n",
              "\n",
              "        [[-0.8474, -0.2539],\n",
              "         [-0.8474, -0.2539],\n",
              "         [-0.1251, -1.2474]]])"
            ]
          },
          "metadata": {},
          "execution_count": 15
        }
      ]
    },
    {
      "cell_type": "code",
      "source": [
        "C[X].shape    #as we see we retive the empedding vector 2"
      ],
      "metadata": {
        "colab": {
          "base_uri": "https://localhost:8080/"
        },
        "id": "D8IIOMIicukQ",
        "outputId": "5f0dd6ef-060f-41a3-c809-ac74c059fbbf"
      },
      "execution_count": 16,
      "outputs": [
        {
          "output_type": "execute_result",
          "data": {
            "text/plain": [
              "torch.Size([5, 3, 2])"
            ]
          },
          "metadata": {},
          "execution_count": 16
        }
      ]
    },
    {
      "cell_type": "code",
      "source": [
        "X[1, 2]"
      ],
      "metadata": {
        "colab": {
          "base_uri": "https://localhost:8080/"
        },
        "id": "gSozQyYrdIPb",
        "outputId": "b15795ba-544d-4781-9e6d-76250ae34d27"
      },
      "execution_count": 17,
      "outputs": [
        {
          "output_type": "execute_result",
          "data": {
            "text/plain": [
              "tensor(5)"
            ]
          },
          "metadata": {},
          "execution_count": 17
        }
      ]
    },
    {
      "cell_type": "code",
      "source": [
        "C[X][1,2]"
      ],
      "metadata": {
        "colab": {
          "base_uri": "https://localhost:8080/"
        },
        "id": "_obUjbcYdgfE",
        "outputId": "60358a96-00bf-4ca9-d941-389bf52ed486"
      },
      "execution_count": 18,
      "outputs": [
        {
          "output_type": "execute_result",
          "data": {
            "text/plain": [
              "tensor([-0.1889,  1.5595])"
            ]
          },
          "metadata": {},
          "execution_count": 18
        }
      ]
    },
    {
      "cell_type": "code",
      "source": [
        "C[5]"
      ],
      "metadata": {
        "colab": {
          "base_uri": "https://localhost:8080/"
        },
        "id": "Ml9jvoitd2Wx",
        "outputId": "39d58dc4-f830-4f8b-d5d0-aa4507de4434"
      },
      "execution_count": 19,
      "outputs": [
        {
          "output_type": "execute_result",
          "data": {
            "text/plain": [
              "tensor([-0.1889,  1.5595])"
            ]
          },
          "metadata": {},
          "execution_count": 19
        }
      ]
    },
    {
      "cell_type": "code",
      "source": [
        "emb = C[X]\n",
        "emb.shape"
      ],
      "metadata": {
        "colab": {
          "base_uri": "https://localhost:8080/"
        },
        "id": "DG44oRBWd6VN",
        "outputId": "25c81d32-3916-4691-a027-5482399eb59c"
      },
      "execution_count": 20,
      "outputs": [
        {
          "output_type": "execute_result",
          "data": {
            "text/plain": [
              "torch.Size([5, 3, 2])"
            ]
          },
          "metadata": {},
          "execution_count": 20
        }
      ]
    },
    {
      "cell_type": "markdown",
      "source": [
        "# Implementing the hidden layer + internals of torch.Tensor: storage, views\n",
        "\n",
        "- Construct the hidden layer which have wieghts with dim (3*2)\n",
        "cos we have 2 dim and we have 3 of them and the nomber of neuruns up to us and we will put it to 100.\n"
      ],
      "metadata": {
        "id": "TkGOQvXdfXtq"
      }
    },
    {
      "cell_type": "code",
      "source": [
        "w1 = torch.randn((6, 100))\n",
        "b1 = torch.randn(100)"
      ],
      "metadata": {
        "id": "Dx_k4z43fOW0"
      },
      "execution_count": 21,
      "outputs": []
    },
    {
      "cell_type": "markdown",
      "source": [
        "- now what we want to do is (emb @ w1 + b1) but we have the emb is stacked up in the dimensions of this input like here \n",
        "(5,3,2)\n",
        "- what we will do is that we will concatenate this inputs together (3,2)\n",
        "\n"
      ],
      "metadata": {
        "id": "4kTJzWVD39hO"
      }
    },
    {
      "cell_type": "code",
      "source": [
        "torch.cat([emb[:, 0, :],emb[:, 1, :],emb[:, 2, :]], 1).shape "
      ],
      "metadata": {
        "colab": {
          "base_uri": "https://localhost:8080/"
        },
        "id": "-S-ztq1U3lWU",
        "outputId": "e9f98e48-adcc-4056-e2bb-1124a3703e42"
      },
      "execution_count": 22,
      "outputs": [
        {
          "output_type": "execute_result",
          "data": {
            "text/plain": [
              "torch.Size([5, 6])"
            ]
          },
          "metadata": {},
          "execution_count": 22
        }
      ]
    },
    {
      "cell_type": "code",
      "source": [
        "torch.cat([emb[:, 0, :],emb[:, 1, :],emb[:, 2, :]], 1) #emb have 3 dim so we telling it we want to conc at dim 1"
      ],
      "metadata": {
        "colab": {
          "base_uri": "https://localhost:8080/"
        },
        "id": "u5JB-gvryntQ",
        "outputId": "36d6362a-fb6c-4d6d-84b4-e45f0230d833"
      },
      "execution_count": 23,
      "outputs": [
        {
          "output_type": "execute_result",
          "data": {
            "text/plain": [
              "tensor([[-1.0522,  0.2530, -1.0522,  0.2530, -1.0522,  0.2530],\n",
              "        [-1.0522,  0.2530, -1.0522,  0.2530, -0.1889,  1.5595],\n",
              "        [-1.0522,  0.2530, -0.1889,  1.5595, -0.8474, -0.2539],\n",
              "        [-0.1889,  1.5595, -0.8474, -0.2539, -0.8474, -0.2539],\n",
              "        [-0.8474, -0.2539, -0.8474, -0.2539, -0.1251, -1.2474]])"
            ]
          },
          "metadata": {},
          "execution_count": 23
        }
      ]
    },
    {
      "cell_type": "markdown",
      "source": [
        "### Sol1: torch.cat(seq of tensors, dims to concatenate) but this not really efficient cos we maybe change to 4 char in the future so you need to change that\n",
        "\n",
        "### sol2: is to use unbind(emb, 1) which will work fine just pass the emb and the index and will give you the same result as   emb[:, 0, :],emb[:, 1, :],emb[:, 2, :] then just concatenate it .\n",
        "\n",
        "### cat() in genereal is not effecient cos it is create a whole new tensor cos there is no way to concatenate tensores by manipulate the tensores view attrbutes"
      ],
      "metadata": {
        "id": "TndwjXXe4OPg"
      }
    },
    {
      "cell_type": "code",
      "source": [
        "torch.cat(torch.unbind(emb, 1), 1)        #sol 2"
      ],
      "metadata": {
        "colab": {
          "base_uri": "https://localhost:8080/"
        },
        "id": "enM7pa8A1Ul2",
        "outputId": "37ca7aa9-0952-402f-a08d-b35e929a58c7"
      },
      "execution_count": 24,
      "outputs": [
        {
          "output_type": "execute_result",
          "data": {
            "text/plain": [
              "tensor([[-1.0522,  0.2530, -1.0522,  0.2530, -1.0522,  0.2530],\n",
              "        [-1.0522,  0.2530, -1.0522,  0.2530, -0.1889,  1.5595],\n",
              "        [-1.0522,  0.2530, -0.1889,  1.5595, -0.8474, -0.2539],\n",
              "        [-0.1889,  1.5595, -0.8474, -0.2539, -0.8474, -0.2539],\n",
              "        [-0.8474, -0.2539, -0.8474, -0.2539, -0.1251, -1.2474]])"
            ]
          },
          "metadata": {},
          "execution_count": 24
        }
      ]
    },
    {
      "cell_type": "code",
      "source": [
        "torch.cat(torch.unbind(emb, 1), 1).shape        #sol 2"
      ],
      "metadata": {
        "colab": {
          "base_uri": "https://localhost:8080/"
        },
        "id": "VYMEdPHb2_jI",
        "outputId": "7bd28d0a-3f3c-4d0c-82b3-fbeb1edb1a40"
      },
      "execution_count": 25,
      "outputs": [
        {
          "output_type": "execute_result",
          "data": {
            "text/plain": [
              "torch.Size([5, 6])"
            ]
          },
          "metadata": {},
          "execution_count": 25
        }
      ]
    },
    {
      "cell_type": "markdown",
      "source": [
        "## Sol 3: using torch.view()\n",
        "you can look at this [blog](http://blog.ezyang.com/2019/05/pytorch-internals/) it explain how .view can change some of the internals attrbutes of the view of the tensor but nothing of the store or memory being changed, copied, moved or created when we call .view()"
      ],
      "metadata": {
        "id": "klAJ8lvf6lli"
      }
    },
    {
      "cell_type": "code",
      "source": [
        "emb.view(5, 6)       #gives the same result, all what happed is the (3,2) stacked up in the same row"
      ],
      "metadata": {
        "colab": {
          "base_uri": "https://localhost:8080/"
        },
        "id": "6ZkunYgz3sPv",
        "outputId": "2c6b052a-767b-42dc-9c5d-e94dc4beb7ea"
      },
      "execution_count": 26,
      "outputs": [
        {
          "output_type": "execute_result",
          "data": {
            "text/plain": [
              "tensor([[-1.0522,  0.2530, -1.0522,  0.2530, -1.0522,  0.2530],\n",
              "        [-1.0522,  0.2530, -1.0522,  0.2530, -0.1889,  1.5595],\n",
              "        [-1.0522,  0.2530, -0.1889,  1.5595, -0.8474, -0.2539],\n",
              "        [-0.1889,  1.5595, -0.8474, -0.2539, -0.8474, -0.2539],\n",
              "        [-0.8474, -0.2539, -0.8474, -0.2539, -0.1251, -1.2474]])"
            ]
          },
          "metadata": {},
          "execution_count": 26
        }
      ]
    },
    {
      "cell_type": "code",
      "source": [
        "h = torch.tanh(emb.view(-1, 6) @ w1 + b1)   #here we can change the 5 to -1 and torch will know the right no"
      ],
      "metadata": {
        "id": "Ufz3qL9t73Xx"
      },
      "execution_count": 27,
      "outputs": []
    },
    {
      "cell_type": "code",
      "source": [
        "h.shape"
      ],
      "metadata": {
        "colab": {
          "base_uri": "https://localhost:8080/"
        },
        "id": "td5yIFuC8ci5",
        "outputId": "7d512a8a-031c-46c5-9f95-e67dc222d7f2"
      },
      "execution_count": 28,
      "outputs": [
        {
          "output_type": "execute_result",
          "data": {
            "text/plain": [
              "torch.Size([5, 100])"
            ]
          },
          "metadata": {},
          "execution_count": 28
        }
      ]
    },
    {
      "cell_type": "markdown",
      "source": [
        "### Broadcasting happend here  with emb.view(-1, 6) @ w1 and b1\n",
        " (5, 100)\n",
        " (100)\n",
        "-  what will happend is that 100 will align in the right and a fake 1 dim will be add in the left so will be (1, 100) row vector\n",
        "   (5, 100)\n",
        "   (1,  100)\n",
        "-  will copy verically for every one of the rows of  5 and do element wise addition, same bias vector will be added to all rows of this matric"
      ],
      "metadata": {
        "id": "JD_JABh__xgl"
      }
    },
    {
      "cell_type": "markdown",
      "source": [
        "# Implementing the output layer"
      ],
      "metadata": {
        "id": "C1Mx6y3JEfj8"
      }
    },
    {
      "cell_type": "code",
      "source": [
        "w2 = torch.randn((100, 27))  #input is 100 and out will be 27 possible char come next\n",
        "b2 = torch.randn(27)"
      ],
      "metadata": {
        "id": "ZZqVPH9I88Q6"
      },
      "execution_count": 29,
      "outputs": []
    },
    {
      "cell_type": "code",
      "source": [
        "logits = h @ w2 + b2"
      ],
      "metadata": {
        "id": "eLVpODF8E-Wy"
      },
      "execution_count": 30,
      "outputs": []
    },
    {
      "cell_type": "code",
      "source": [
        "logits.shape"
      ],
      "metadata": {
        "colab": {
          "base_uri": "https://localhost:8080/"
        },
        "id": "TenCXCGWFGke",
        "outputId": "52e286ff-91df-486d-f10d-d343050e6216"
      },
      "execution_count": 31,
      "outputs": [
        {
          "output_type": "execute_result",
          "data": {
            "text/plain": [
              "torch.Size([5, 27])"
            ]
          },
          "metadata": {},
          "execution_count": 31
        }
      ]
    },
    {
      "cell_type": "markdown",
      "source": [
        "# Implementing the negative log likelihood loss"
      ],
      "metadata": {
        "id": "5t9d97X1FkFG"
      }
    },
    {
      "cell_type": "code",
      "source": [
        "counts = logits.exp()   # to get the fake accounts"
      ],
      "metadata": {
        "id": "isoy5HJ9Fc9I"
      },
      "execution_count": 32,
      "outputs": []
    },
    {
      "cell_type": "code",
      "source": [
        "prob = counts / counts.sum(1, keepdim=True)  #normalize them into probability"
      ],
      "metadata": {
        "id": "-8dDu1iYF5u8"
      },
      "execution_count": 33,
      "outputs": []
    },
    {
      "cell_type": "code",
      "source": [
        "prob.shape, prob[0].sum()"
      ],
      "metadata": {
        "colab": {
          "base_uri": "https://localhost:8080/"
        },
        "id": "3TyhboCdGN0Q",
        "outputId": "650e801e-0632-407f-8b0a-4e2eb1bf62cb"
      },
      "execution_count": 34,
      "outputs": [
        {
          "output_type": "execute_result",
          "data": {
            "text/plain": [
              "(torch.Size([5, 27]), tensor(1.))"
            ]
          },
          "metadata": {},
          "execution_count": 34
        }
      ]
    },
    {
      "cell_type": "markdown",
      "source": [
        "- we have Y, the letter that comes next so we want to index into the rows of prob and each row we want to pluck out the probability assigned to the correct charcter \n"
      ],
      "metadata": {
        "id": "S3KTk465SoqU"
      }
    },
    {
      "cell_type": "code",
      "source": [
        "prob[torch.arange(5), Y]  #the arange for iteration and for each row we want to grap the Y column and get the char prob"
      ],
      "metadata": {
        "colab": {
          "base_uri": "https://localhost:8080/"
        },
        "id": "f9iBgJ95GQsp",
        "outputId": "10ffbcfa-c864-464e-ce1f-6d99982cd5c4"
      },
      "execution_count": 35,
      "outputs": [
        {
          "output_type": "execute_result",
          "data": {
            "text/plain": [
              "tensor([4.8353e-15, 4.2591e-07, 1.7184e-04, 2.3214e-12, 3.3829e-06])"
            ]
          },
          "metadata": {},
          "execution_count": 35
        }
      ]
    },
    {
      "cell_type": "markdown",
      "source": [
        "- this gives the current probability that assigned by this NN(not trained yet) to the correct char in the sequance"
      ],
      "metadata": {
        "id": "tK4umVIeUMCf"
      }
    },
    {
      "cell_type": "code",
      "source": [
        "torch.arange(5)"
      ],
      "metadata": {
        "colab": {
          "base_uri": "https://localhost:8080/"
        },
        "id": "pZfADdS-Tzzo",
        "outputId": "41eb3d09-74c3-403f-b25f-4f8d38db4871"
      },
      "execution_count": 36,
      "outputs": [
        {
          "output_type": "execute_result",
          "data": {
            "text/plain": [
              "tensor([0, 1, 2, 3, 4])"
            ]
          },
          "metadata": {},
          "execution_count": 36
        }
      ]
    },
    {
      "cell_type": "code",
      "source": [
        "Y"
      ],
      "metadata": {
        "colab": {
          "base_uri": "https://localhost:8080/"
        },
        "id": "Mxffb1MDV45J",
        "outputId": "2786e8b0-947f-40e6-8b4e-b4f4e5369583"
      },
      "execution_count": 37,
      "outputs": [
        {
          "output_type": "execute_result",
          "data": {
            "text/plain": [
              "tensor([ 5, 13, 13,  1,  0])"
            ]
          },
          "metadata": {},
          "execution_count": 37
        }
      ]
    },
    {
      "cell_type": "code",
      "source": [
        "prob[2,13]"
      ],
      "metadata": {
        "colab": {
          "base_uri": "https://localhost:8080/"
        },
        "id": "YLGlVzV_VbDK",
        "outputId": "508aa880-820e-4915-93af-c47c9c0faf75"
      },
      "execution_count": 38,
      "outputs": [
        {
          "output_type": "execute_result",
          "data": {
            "text/plain": [
              "tensor(0.0002)"
            ]
          },
          "metadata": {},
          "execution_count": 38
        }
      ]
    },
    {
      "cell_type": "code",
      "source": [
        "loss = -prob[torch.arange(5), Y].log().mean()\n",
        "loss"
      ],
      "metadata": {
        "colab": {
          "base_uri": "https://localhost:8080/"
        },
        "id": "a_jieSU1V8cu",
        "outputId": "76647bb6-a9bf-49c5-e05c-8e0e04458975"
      },
      "execution_count": 39,
      "outputs": [
        {
          "output_type": "execute_result",
          "data": {
            "text/plain": [
              "tensor(19.1373)"
            ]
          },
          "metadata": {},
          "execution_count": 39
        }
      ]
    },
    {
      "cell_type": "markdown",
      "source": [
        "# Summary of the full network"
      ],
      "metadata": {
        "id": "A0eC82e7ZnIb"
      }
    },
    {
      "cell_type": "code",
      "source": [
        "X.shape, Y.shape # dataset"
      ],
      "metadata": {
        "colab": {
          "base_uri": "https://localhost:8080/"
        },
        "id": "qWDk8opXWmtw",
        "outputId": "58d5d058-edca-4cdf-fa34-9b71c68113c1"
      },
      "execution_count": 40,
      "outputs": [
        {
          "output_type": "execute_result",
          "data": {
            "text/plain": [
              "(torch.Size([5, 3]), torch.Size([5]))"
            ]
          },
          "metadata": {},
          "execution_count": 40
        }
      ]
    },
    {
      "cell_type": "code",
      "source": [
        "emb = C[X]  #(5, 3, 2)\n",
        "h = torch.tanh(emb.view(-1, 6) @ w1 + b1)   #here we can change the 5 to -1 and torch will know the right no\n",
        "logits = h @ w2 + b2\n",
        "counts = logits.exp()   # to get the fake accounts\n",
        "prob = counts / counts.sum(1, keepdim=True)  #normalize them into probability\n",
        "loss = -prob[torch.arange(5), Y].log().mean()\n",
        "loss"
      ],
      "metadata": {
        "colab": {
          "base_uri": "https://localhost:8080/"
        },
        "id": "9qfxM5OlaeYC",
        "outputId": "4b3efae1-aba6-4571-821f-28f10f5c2cfa"
      },
      "execution_count": 41,
      "outputs": [
        {
          "output_type": "execute_result",
          "data": {
            "text/plain": [
              "tensor(19.1373)"
            ]
          },
          "metadata": {},
          "execution_count": 41
        }
      ]
    },
    {
      "cell_type": "markdown",
      "source": [
        "# Introducing F.cross_entropy and why\n",
        "- since we are working with classification problem so we can make it more easer than writing eveything from scratch and we will use corss inrtopy for effiecinty\n",
        "\n",
        "## Why cross intropy over implement it from scratch\n",
        "- 1) when using (cross intropy) torch will not create all internediate tensors counts, iterations.... cos all this new tensors in memory and it's inefficient to run like this\n",
        "- Instead torch will cluster all this operation together and have fused kernals that efficiently evalute  these exprssion, it's sort of clusterd mathimatical operations \n",
        "\n",
        "- 2) the backward pass can made much more effecient mathimatically and analyticlally\n",
        "- 3) under the hood corss intropy can be more numerically well behaved and as an example lets: "
      ],
      "metadata": {
        "id": "Ea-6xIDdboSN"
      }
    },
    {
      "cell_type": "code",
      "source": [
        "logits = torch.tensor([-2,-3, 0, 5])\n",
        "counts = logits.exp()   # to get the fake accounts\n",
        "prob = counts / counts.sum()  #normalize them into probability\n",
        "prob\n"
      ],
      "metadata": {
        "colab": {
          "base_uri": "https://localhost:8080/"
        },
        "id": "3Ab-jK8z925B",
        "outputId": "98d5d259-d841-499d-ee5f-1a970bbf90e0"
      },
      "execution_count": 42,
      "outputs": [
        {
          "output_type": "execute_result",
          "data": {
            "text/plain": [
              "tensor([9.0466e-04, 3.3281e-04, 6.6846e-03, 9.9208e-01])"
            ]
          },
          "metadata": {},
          "execution_count": 42
        }
      ]
    },
    {
      "cell_type": "markdown",
      "source": [
        "here it worked good but what if one of logits values take on more extreme value, this can happend during optimization of NN it will work fine just will get very small nomber in the counts,  but what if you got very positive logit you will get problem like this"
      ],
      "metadata": {
        "id": "9i2AJ42d-N2e"
      }
    },
    {
      "cell_type": "code",
      "source": [
        "logits = torch.tensor([-100,-3, 0, 100])\n",
        "counts = logits.exp()   # to get the fake accounts\n",
        "prob = counts / counts.sum()  #normalize them into probability\n",
        "prob\n"
      ],
      "metadata": {
        "colab": {
          "base_uri": "https://localhost:8080/"
        },
        "id": "KnPLi0Q9-zSF",
        "outputId": "a4b4232f-b05e-424d-db70-be1fff2735b2"
      },
      "execution_count": 43,
      "outputs": [
        {
          "output_type": "execute_result",
          "data": {
            "text/plain": [
              "tensor([0., 0., 0., nan])"
            ]
          },
          "metadata": {},
          "execution_count": 43
        }
      ]
    },
    {
      "cell_type": "code",
      "source": [
        "counts"
      ],
      "metadata": {
        "colab": {
          "base_uri": "https://localhost:8080/"
        },
        "id": "SI4lnkJ3_ERo",
        "outputId": "0799ffeb-1c2a-4e80-9507-dd41a0393bbc"
      },
      "execution_count": 44,
      "outputs": [
        {
          "output_type": "execute_result",
          "data": {
            "text/plain": [
              "tensor([3.7835e-44, 4.9787e-02, 1.0000e+00,        inf])"
            ]
          },
          "metadata": {},
          "execution_count": 44
        }
      ]
    },
    {
      "cell_type": "markdown",
      "source": [
        "as you see you get nan and cos you got inf in the counts cos it's run out of range in the floating numbers that represent the counts, you rasing exp to 100 and this gives inf\n",
        "### How pytorch solve this?\n",
        "- if you do offset by any nomber you will get the same result because the normalization weather you add or sub,so we ok with negative no, but positive nomber will cose oveflow the floating no,  so torch intrnally  calculate  the maximum values in the logits max([-2,-3, 0, 2]) - 2 and subtract it, so the max no will be zero "
      ],
      "metadata": {
        "id": "9ZY6RlJX-9ip"
      }
    },
    {
      "cell_type": "code",
      "source": [
        "logits = torch.tensor([-10,-3, 0, 100]) -100\n",
        "counts = logits.exp()   # to get the fake accounts\n",
        "prob = counts / counts.sum()  #normalize them into probability\n",
        "prob, logits\n"
      ],
      "metadata": {
        "colab": {
          "base_uri": "https://localhost:8080/"
        },
        "id": "Cc1Cj9_ZCmvt",
        "outputId": "3ff795f9-0fa8-49ad-9191-62ba19911770"
      },
      "execution_count": 45,
      "outputs": [
        {
          "output_type": "execute_result",
          "data": {
            "text/plain": [
              "(tensor([0.0000e+00, 1.4013e-45, 3.7835e-44, 1.0000e+00]),\n",
              " tensor([-110, -103, -100,    0]))"
            ]
          },
          "metadata": {},
          "execution_count": 45
        }
      ]
    },
    {
      "cell_type": "markdown",
      "source": [
        "*As* you see it **worked**"
      ],
      "metadata": {
        "id": "zTwqIXufC9d2"
      }
    },
    {
      "cell_type": "markdown",
      "source": [
        "# Implementing the training loop, overfitting one batch"
      ],
      "metadata": {
        "id": "UB834bdOxwik"
      }
    },
    {
      "cell_type": "code",
      "source": [
        "# ------------ now made respectable :) ---------------"
      ],
      "metadata": {
        "id": "m7wO6kRODOVB"
      },
      "execution_count": 46,
      "outputs": []
    },
    {
      "cell_type": "code",
      "source": [
        "g = torch.Generator().manual_seed(2147483647) # for reproducibility\n",
        "C = torch.randn((27, 2), generator=g)\n",
        "W1 = torch.randn((6, 100), generator=g)\n",
        "b1 = torch.randn(100, generator=g)\n",
        "W2 = torch.randn((100, 27), generator=g)\n",
        "b2 = torch.randn(27, generator=g)\n",
        "parameters = [C, W1, b1, W2, b2]"
      ],
      "metadata": {
        "id": "-h32grkJZuFM"
      },
      "execution_count": 47,
      "outputs": []
    },
    {
      "cell_type": "code",
      "source": [
        "for p in parameters:\n",
        "    p.requires_grad = True\n"
      ],
      "metadata": {
        "id": "PNR_wX0qGTpw"
      },
      "execution_count": 48,
      "outputs": []
    },
    {
      "cell_type": "code",
      "source": [
        "\n",
        "for _ in range(10):\n",
        "    #the forward pass\n",
        "    emb = C[X]  #(5, 3, 2)\n",
        "    h = torch.tanh(emb.view(-1, 6) @ W1 + b1)   #here we can change the 5 to -1 and torch will know the right no\n",
        "    logits = h @ W2 + b2\n",
        "    loss = F.cross_entropy(logits, Y)\n",
        "    #backward pass\n",
        "\n",
        "    for p in parameters:\n",
        "      p.grad = None\n",
        "    loss.backward()\n",
        "    #update\n",
        "    for p in parameters:\n",
        "      p.data += -0.1 * p.grad\n",
        "print(loss.item())"
      ],
      "metadata": {
        "colab": {
          "base_uri": "https://localhost:8080/"
        },
        "id": "U3VhsFXhbRa3",
        "outputId": "9d75975e-1c70-48ef-fec3-5185aadac80a"
      },
      "execution_count": 51,
      "outputs": [
        {
          "output_type": "stream",
          "name": "stdout",
          "text": [
            "0.014223095960915089\n"
          ]
        }
      ]
    },
    {
      "cell_type": "code",
      "source": [
        "logits.max(1)   #max along the first dim"
      ],
      "metadata": {
        "colab": {
          "base_uri": "https://localhost:8080/"
        },
        "id": "sJhZoVpGxBOR",
        "outputId": "dff3aba4-6dbd-4713-da0e-0dd479bd7ca4"
      },
      "execution_count": 56,
      "outputs": [
        {
          "output_type": "execute_result",
          "data": {
            "text/plain": [
              "torch.return_types.max(\n",
              "values=tensor([15.3815, 17.1826, 18.6905, 15.9024, 15.1094], grad_fn=<MaxBackward0>),\n",
              "indices=tensor([ 5, 13, 13,  1,  0]))"
            ]
          },
          "metadata": {},
          "execution_count": 56
        }
      ]
    },
    {
      "cell_type": "code",
      "source": [
        "Y"
      ],
      "metadata": {
        "colab": {
          "base_uri": "https://localhost:8080/"
        },
        "id": "i7gPSBhGxLae",
        "outputId": "0997a208-cdaf-4542-973a-197a6bf104de"
      },
      "execution_count": 57,
      "outputs": [
        {
          "output_type": "execute_result",
          "data": {
            "text/plain": [
              "tensor([ 5, 13, 13,  1,  0])"
            ]
          },
          "metadata": {},
          "execution_count": 57
        }
      ]
    },
    {
      "cell_type": "markdown",
      "source": [
        "- even thought the loss is pretty good (over fitting since we trained only on the first word )but we will not reach to zero, you will find that ... will come after it more than char for the first word e will come after and for the second word o and so on so there is many possiblitits, so we will not be able to overfit and make the loss = 0"
      ],
      "metadata": {
        "id": "MasO7o51wAW4"
      }
    },
    {
      "cell_type": "markdown",
      "source": [
        "# Training on the full dataset, minibatches\n"
      ],
      "metadata": {
        "id": "RKIT2Bijx3Z9"
      }
    },
    {
      "cell_type": "markdown",
      "source": [
        "- we want randoly select some portion of the data set(mini batch) then forward, backward, update on it, then iterate this mini batches"
      ],
      "metadata": {
        "id": "p59Wkt7q4yIw"
      }
    },
    {
      "cell_type": "code",
      "source": [
        "torch.randint(0, 5, (32, ))  #tensore from 0-5,tuple of 32 between 0-5"
      ],
      "metadata": {
        "colab": {
          "base_uri": "https://localhost:8080/"
        },
        "id": "wO2m9zrwbj81",
        "outputId": "9d6a7ad7-dba6-44f9-e420-8aeed9c146df"
      },
      "execution_count": 63,
      "outputs": [
        {
          "output_type": "execute_result",
          "data": {
            "text/plain": [
              "tensor([4, 2, 3, 2, 1, 2, 1, 3, 3, 4, 1, 0, 1, 3, 0, 4, 0, 4, 0, 3, 4, 3, 2, 2,\n",
              "        2, 4, 2, 3, 1, 0, 4, 1])"
            ]
          },
          "metadata": {},
          "execution_count": 63
        }
      ]
    },
    {
      "cell_type": "markdown",
      "source": [
        "cos we are dealing with mini batches the gradient quality is lower so the direction is not reliable, it's not the actual gradient direction, but it's good enough even when we only working on 32 example, soit's much better to have approximate gradient and just make more steps than evaluate the exact gradient and take fewer steps"
      ],
      "metadata": {
        "id": "NjMjgFVU7rl6"
      }
    },
    {
      "cell_type": "code",
      "source": [
        "g = torch.Generator().manual_seed(2147483647) # for reproducibility\n",
        "C = torch.randn((27, 2), generator=g)\n",
        "W1 = torch.randn((6, 100), generator=g)\n",
        "b1 = torch.randn(100, generator=g)\n",
        "W2 = torch.randn((100, 27), generator=g)\n",
        "b2 = torch.randn(27, generator=g)\n",
        "parameters = [C, W1, b1, W2, b2]"
      ],
      "metadata": {
        "id": "yeynWAHRATDq"
      },
      "execution_count": 122,
      "outputs": []
    },
    {
      "cell_type": "code",
      "source": [
        "#choose the best lre\n",
        "lre = torch.linspace(-3, 0, 1000)\n",
        "lrs = 10**lre   #start be 0.001\n"
      ],
      "metadata": {
        "id": "ytGCdcNo_Pbp"
      },
      "execution_count": 123,
      "outputs": []
    },
    {
      "cell_type": "markdown",
      "source": [
        "# Finding a good initial learning rate"
      ],
      "metadata": {
        "id": "nmRNtVsgQ9OZ"
      }
    },
    {
      "cell_type": "code",
      "source": [
        "for p in parameters:\n",
        "    p.requires_grad = True\n",
        "\n",
        "lossi = []\n",
        "lri = []\n",
        "for i in range(1000):\n",
        "  #mini batch\n",
        "    ix = torch.randint(0, X.shape[0], (32, ))  #tensore from 0-x_shape,tuple of 32 between 0-x_shape\n",
        "\n",
        "    #the forward pass\n",
        "    emb = C[X[ix]]  #only grap thos rows, we get 32 rows of x, the emb will be  (32, 3,2) \n",
        "    h = torch.tanh(emb.view(-1, 6) @ W1 + b1)   #here we can change the 5 to -1 and torch will know the right no\n",
        "    logits = h @ W2 + b2\n",
        "    loss = F.cross_entropy(logits, Y[ix])\n",
        "    # print(loss.item())\n",
        "    #backward pass\n",
        "\n",
        "    for p in parameters:\n",
        "      p.grad = None\n",
        "    loss.backward()\n",
        "    #update\n",
        "    lr = lrs[i]\n",
        "    # lr decay 10x lower\n",
        "    for p in parameters:\n",
        "      p.data += -lr * p.grad\n",
        "\n",
        "    #tracking states\n",
        "    lossi.append(loss.item())\n",
        "    lri.append(lre[i])\n",
        "\n",
        "print(loss.item())"
      ],
      "metadata": {
        "colab": {
          "base_uri": "https://localhost:8080/"
        },
        "id": "1sRGr63P5S4M",
        "outputId": "e5d1b015-d582-483e-c244-3d9ac04c5497"
      },
      "execution_count": 124,
      "outputs": [
        {
          "output_type": "stream",
          "name": "stdout",
          "text": [
            "7.098387241363525\n"
          ]
        }
      ]
    },
    {
      "cell_type": "code",
      "source": [
        "plt.plot(lri, lossi)  #exponent lri x, lossi y"
      ],
      "metadata": {
        "colab": {
          "base_uri": "https://localhost:8080/",
          "height": 282
        },
        "id": "UgfurqyrA_PD",
        "outputId": "cba0a55c-90d4-4d75-a702-f9bfd0a57b84"
      },
      "execution_count": 125,
      "outputs": [
        {
          "output_type": "execute_result",
          "data": {
            "text/plain": [
              "[<matplotlib.lines.Line2D at 0x7fb964fe8430>]"
            ]
          },
          "metadata": {},
          "execution_count": 125
        },
        {
          "output_type": "display_data",
          "data": {
            "text/plain": [
              "<Figure size 432x288 with 1 Axes>"
            ],
            "image/png": "[encoded data removed]"
          },
          "metadata": {
            "needs_background": "light"
          }
        }
      ]
    },
    {
      "cell_type": "markdown",
      "source": [
        "Now we have some confident that bets lr is between -1.0 , 0.5\n",
        "so we will put 10 ** -1 which 0.1 what we put at the first time\n"
      ],
      "metadata": {
        "id": "gW1d23iWCzar"
      }
    },
    {
      "cell_type": "markdown",
      "source": [
        "# lr decay\n",
        "### training steps in general\n",
        "- find decent lr using the opove approuch\n",
        "- start with this lr and train for a while \n",
        "- then at end ppl like to do learning rate decay where you decay the lr by say factor of 10 and   train more steps then you get trained NN "
      ],
      "metadata": {
        "id": "voSAejg3E7eE"
      }
    },
    {
      "cell_type": "code",
      "source": [
        "g = torch.Generator().manual_seed(2147483647) # for reproducibility\n",
        "C = torch.randn((27, 2), generator=g)\n",
        "W1 = torch.randn((6, 100), generator=g)\n",
        "b1 = torch.randn(100, generator=g)\n",
        "W2 = torch.randn((100, 27), generator=g)\n",
        "b2 = torch.randn(27, generator=g)\n",
        "parameters = [C, W1, b1, W2, b2]"
      ],
      "metadata": {
        "id": "ST63jZmrE6rQ"
      },
      "execution_count": 126,
      "outputs": []
    },
    {
      "cell_type": "code",
      "source": [
        "for p in parameters:\n",
        "    p.requires_grad = True\n",
        "\n",
        "lossi = []\n",
        "lri = []\n",
        "for i in range(10000):\n",
        "  #mini batch\n",
        "    ix = torch.randint(0, X.shape[0], (32, ))  #tensore from 0-x_shape,tuple of 32 between 0-x_shape\n",
        "\n",
        "    #the forward pass\n",
        "    emb = C[X[ix]]  #only grap thos rows, we get 32 rows of x, the emb will be  (32, 3,2) \n",
        "    h = torch.tanh(emb.view(-1, 6) @ W1 + b1)   #here we can change the 5 to -1 and torch will know the right no\n",
        "    logits = h @ W2 + b2\n",
        "    loss = F.cross_entropy(logits, Y[ix])\n",
        "    # print(loss.item())\n",
        "    #backward pass\n",
        "\n",
        "    for p in parameters:\n",
        "      p.grad = None\n",
        "    loss.backward()\n",
        "    #update\n",
        "    # lr = lrs[i]\n",
        "    # lr = 0.1\n",
        "    lr = 0.01     # lr decay 10x lower\n",
        "    for p in parameters:\n",
        "      p.data += -lr * p.grad\n",
        "\n",
        "    #tracking states\n",
        "    # lossi.append(loss.item())\n",
        "    # lri.append(lre[i])\n",
        "\n",
        "print(loss.item())"
      ],
      "metadata": {
        "colab": {
          "base_uri": "https://localhost:8080/"
        },
        "id": "_34O_N_99Yig",
        "outputId": "77848673-a76a-415c-f736-5036906cc3aa"
      },
      "execution_count": 127,
      "outputs": [
        {
          "output_type": "stream",
          "name": "stdout",
          "text": [
            "2.2166988849639893\n"
          ]
        }
      ]
    },
    {
      "cell_type": "code",
      "source": [
        "    #the forward pass\n",
        "emb = C[X]  #only grap thos rows, we get 32 rows of x, the emb will be  (32, 3,2) \n",
        "h = torch.tanh(emb.view(-1, 6) @ W1 + b1)   #here we can change the 5 to -1 and torch will know the right no\n",
        "logits = h @ W2 + b2\n",
        "loss = F.cross_entropy(logits, Y)\n",
        "print(loss.item())"
      ],
      "metadata": {
        "colab": {
          "base_uri": "https://localhost:8080/"
        },
        "id": "-udGxVC67Vtp",
        "outputId": "e64fdfd6-0154-475d-fc20-c0e34f7f4f5a"
      },
      "execution_count": 128,
      "outputs": [
        {
          "output_type": "stream",
          "name": "stdout",
          "text": [
            "2.57037615776062\n"
          ]
        }
      ]
    },
    {
      "cell_type": "code",
      "source": [
        "sum(p.nelement() for p in parameters) # number of parameters in total\n"
      ],
      "metadata": {
        "colab": {
          "base_uri": "https://localhost:8080/"
        },
        "id": "2yLW-fVxE_gP",
        "outputId": "fc35b324-a583-4f75-b50c-ac00782cc12f"
      },
      "execution_count": 129,
      "outputs": [
        {
          "output_type": "execute_result",
          "data": {
            "text/plain": [
              "3481"
            ]
          },
          "metadata": {},
          "execution_count": 129
        }
      ]
    },
    {
      "cell_type": "markdown",
      "source": [
        "# Splitting up the dataset into train/val/test splits and why"
      ],
      "metadata": {
        "id": "2Mqvxx6uRF7z"
      }
    },
    {
      "cell_type": "markdown",
      "source": [
        "- this is a very small model as we from the no of parameter it can get larger and larger if you keep adding neuruns and parameters as more the model big it becomes more amd more cabable to overfitting your dataset means that the loss might be very small as zero but all the model is doing is memorizing the data set, so if you try to smaple from that model you will get very similar examples as in the train set, no new data, and also the loss on any new names will be very high, in general it's not a good model, so we want to split the data into 3 steps\n",
        "- train 80%: for optimizing the parameter, like waht we've done opove using gradient des (train parameter)\n",
        "- dev 10%: developement over all the hyper parameter like the size of the hidden layer, emb size, strngth of regularization so you can try many different variation of them and see whichover one workes best on the validation data (train hyper paameter)\n",
        "- test 10%: evaluate the performance of the model at the end\n",
        "\n",
        "so we evaluating the loss on test very vew times cos every time you evaluate your test you learn somehting fom it so you also start to train on the test split so you only allowed to test the loss on the test set very very very few times otherwise you risk overfitting over it as well"
      ],
      "metadata": {
        "id": "rpZTPbWmMySk"
      }
    },
    {
      "cell_type": "code",
      "source": [
        "# build the dataset\n",
        "block_size = 3 # context length: how many characters do we take to predict the next one?\n",
        "\n",
        "def build_dataset(words):  \n",
        "  X, Y = [], []\n",
        "  for w in words:\n",
        "\n",
        "    #print(w)\n",
        "    context = [0] * block_size\n",
        "    for ch in w + '.':\n",
        "      ix = stoi[ch]\n",
        "      X.append(context)\n",
        "      Y.append(ix)\n",
        "      #print(''.join(itos[i] for i in context), '--->', itos[ix])\n",
        "      context = context[1:] + [ix] # crop and append\n",
        "\n",
        "  X = torch.tensor(X)\n",
        "  Y = torch.tensor(Y)\n",
        "  print(X.shape, Y.shape)\n",
        "  return X, Y\n",
        "\n",
        "import random\n",
        "random.seed(42)\n",
        "random.shuffle(words)\n",
        "n1 = int(0.8*len(words))\n",
        "n2 = int(0.9*len(words))\n",
        "\n",
        "Xtr, Ytr = build_dataset(words[:n1])\n",
        "Xdev, Ydev = build_dataset(words[n1:n2])\n",
        "Xte, Yte = build_dataset(words[n2:])\n"
      ],
      "metadata": {
        "colab": {
          "base_uri": "https://localhost:8080/"
        },
        "id": "FleBss4bMwxa",
        "outputId": "551150bb-73a7-4e35-b4ef-720729643aae"
      },
      "execution_count": 130,
      "outputs": [
        {
          "output_type": "stream",
          "name": "stdout",
          "text": [
            "torch.Size([182625, 3]) torch.Size([182625])\n",
            "torch.Size([22655, 3]) torch.Size([22655])\n",
            "torch.Size([22866, 3]) torch.Size([22866])\n"
          ]
        }
      ]
    },
    {
      "cell_type": "code",
      "source": [
        "sum(p.nelement() for p in parameters) # number of parameters in total\n"
      ],
      "metadata": {
        "colab": {
          "base_uri": "https://localhost:8080/"
        },
        "id": "LzYxRAlkYN-5",
        "outputId": "6097c986-4273-491d-c6f4-f537beb96d82"
      },
      "execution_count": 166,
      "outputs": [
        {
          "output_type": "execute_result",
          "data": {
            "text/plain": [
              "3481"
            ]
          },
          "metadata": {},
          "execution_count": 166
        }
      ]
    },
    {
      "cell_type": "markdown",
      "source": [
        "# Experiment: larger hidden layer"
      ],
      "metadata": {
        "id": "0-Ddk63sb5hP"
      }
    },
    {
      "cell_type": "code",
      "source": [
        "g = torch.Generator().manual_seed(2147483647) # for reproducibility\n",
        "C = torch.randn((27, 2), generator=g)\n",
        "W1 = torch.randn((6, 300), generator=g)\n",
        "b1 = torch.randn(300, generator=g)\n",
        "W2 = torch.randn((300, 27), generator=g)\n",
        "b2 = torch.randn(27, generator=g)\n",
        "parameters = [C, W1, b1, W2, b2]"
      ],
      "metadata": {
        "id": "WAk8a2kzSzyk"
      },
      "execution_count": 192,
      "outputs": []
    },
    {
      "cell_type": "code",
      "source": [
        "\n",
        "for p in parameters:\n",
        "  p.requires_grad = True\n",
        "lossi = []\n",
        "lri = []\n",
        "stepi = []\n",
        "for i in range(30000):\n",
        "  \n",
        "  # minibatch construct\n",
        "  ix = torch.randint(0, Xtr.shape[0], (32,))  #32 is the batch size\n",
        "  \n",
        "  # forward pass\n",
        "  emb = C[Xtr[ix]] # (32, 3, 10)\n",
        "  h = torch.tanh(emb.view(-1, 6) @ W1 + b1) # (32, 200)\n",
        "  logits = h @ W2 + b2 # (32, 27)\n",
        "  loss = F.cross_entropy(logits, Ytr[ix])\n",
        "  #print(loss.item())\n",
        "  \n",
        "  # backward pass\n",
        "  for p in parameters:\n",
        "    p.grad = None\n",
        "  loss.backward()\n",
        "  \n",
        "  # update\n",
        "  #lr = lrs[i]\n",
        "  lr = 0.1 #if i < 100000 else 0.01\n",
        "  for p in parameters:\n",
        "    p.data += -lr * p.grad\n",
        "\n",
        "  # track stats\n",
        "  #lri.append(lre[i])\n",
        "  stepi.append(i)\n",
        "  lossi.append(loss.item())\n",
        "\n",
        "#print(loss.item())"
      ],
      "metadata": {
        "id": "n52SVWCxSj-J"
      },
      "execution_count": 200,
      "outputs": []
    },
    {
      "cell_type": "code",
      "source": [
        "print(loss.item())"
      ],
      "metadata": {
        "colab": {
          "base_uri": "https://localhost:8080/"
        },
        "id": "QOx1_0ADS_mn",
        "outputId": "651e9350-c41d-4ffc-963d-11ba51848ede"
      },
      "execution_count": 201,
      "outputs": [
        {
          "output_type": "stream",
          "name": "stdout",
          "text": [
            "2.58514142036438\n"
          ]
        }
      ]
    },
    {
      "cell_type": "code",
      "source": [
        "emb = C[Xdev] # (32, 3, 10)\n",
        "h = torch.tanh(emb.view(-1, 6) @ W1 + b1) # (32, 200)\n",
        "logits = h @ W2 + b2 # (32, 27)\n",
        "loss = F.cross_entropy(logits, Ydev)\n",
        "loss"
      ],
      "metadata": {
        "colab": {
          "base_uri": "https://localhost:8080/"
        },
        "id": "xQKwoBrVTF-r",
        "outputId": "a7217689-9014-4f31-93c9-385f828e8a2d"
      },
      "execution_count": 202,
      "outputs": [
        {
          "output_type": "execute_result",
          "data": {
            "text/plain": [
              "tensor(2.3837, grad_fn=<NllLossBackward0>)"
            ]
          },
          "metadata": {},
          "execution_count": 202
        }
      ]
    },
    {
      "cell_type": "markdown",
      "source": [
        "this with 40000 we have to much noise this might be cos the batch size too 32\n",
        "- also one other concern that we might in the hidden layer even if it's very big it could be the bottlenick of the NN the embeddings are that are 2 dim we cramming too many chars into just 2 dim and NN can't really use this space effectivly"
      ],
      "metadata": {
        "id": "OONx96MvZ05d"
      }
    },
    {
      "cell_type": "code",
      "source": [],
      "metadata": {
        "id": "mYr7moDyZ0Q6"
      },
      "execution_count": null,
      "outputs": []
    },
    {
      "cell_type": "code",
      "source": [
        "plt.plot(stepi, lossi)"
      ],
      "metadata": {
        "colab": {
          "base_uri": "https://localhost:8080/",
          "height": 282
        },
        "id": "6ls2f-k1ZHmJ",
        "outputId": "42880abb-b5a1-4b42-bd32-e872cc20ef78"
      },
      "execution_count": 176,
      "outputs": [
        {
          "output_type": "execute_result",
          "data": {
            "text/plain": [
              "[<matplotlib.lines.Line2D at 0x7fb9650c3e20>]"
            ]
          },
          "metadata": {},
          "execution_count": 176
        },
        {
          "output_type": "display_data",
          "data": {
            "text/plain": [
              "<Figure size 432x288 with 1 Axes>"
            ],
            "image/png": "[encoded data removed]"
          },
          "metadata": {
            "needs_background": "light"
          }
        }
      ]
    },
    {
      "cell_type": "markdown",
      "source": [
        "The two loss are very close means the netwok are very tiny so we can make improvement by scalling this network by changing the neuruns to 300 or whatever u want"
      ],
      "metadata": {
        "id": "e-Ty-MFaXts4"
      }
    },
    {
      "cell_type": "markdown",
      "source": [
        "# Visualizing the character embeddings\n",
        "- worked only with 2dim "
      ],
      "metadata": {
        "id": "3VRfbLmKcDEn"
      }
    },
    {
      "cell_type": "code",
      "source": [
        "\n",
        "# visualize dimensions 0 and 1 of the embedding matrix C for all characters\n",
        "plt.figure(figsize=(8,8))\n",
        "plt.scatter(C[:,0].data, C[:,1].data, s=200)\n",
        "for i in range(C.shape[0]):\n",
        "    plt.text(C[i,0].item(), C[i,1].item(), itos[i], ha=\"center\", va=\"center\", color='white')\n",
        "plt.grid('minor')\n"
      ],
      "metadata": {
        "colab": {
          "base_uri": "https://localhost:8080/",
          "height": 484
        },
        "id": "9XeUrWPCWQvP",
        "outputId": "d2989603-143f-4ea4-cdd1-5b884b991503"
      },
      "execution_count": 203,
      "outputs": [
        {
          "output_type": "display_data",
          "data": {
            "text/plain": [
              "<Figure size 576x576 with 1 Axes>"
            ],
            "image/png": "[encoded data removed]"
          },
          "metadata": {
            "needs_background": "light"
          }
        }
      ]
    },
    {
      "cell_type": "markdown",
      "source": [
        "the network look like learned to separate out the char and cluster them a little like the chars aeoiy like in cluster "
      ],
      "metadata": {
        "id": "S3FZB41dc3C_"
      }
    },
    {
      "cell_type": "markdown",
      "source": [
        "# Experiment: larger embedding size\n",
        "- try larger hidden layer did not give us good result so we will try larger embedding size"
      ],
      "metadata": {
        "id": "qwzBShBvdr4S"
      }
    },
    {
      "cell_type": "code",
      "source": [
        "g = torch.Generator().manual_seed(2147483647) # for reproducibility\n",
        "C = torch.randn((27, 10), generator=g)\n",
        "W1 = torch.randn((30, 200), generator=g)#3*10\n",
        "b1 = torch.randn(200, generator=g)\n",
        "W2 = torch.randn((200, 27), generator=g)\n",
        "b2 = torch.randn(27, generator=g)\n",
        "parameters = [C, W1, b1, W2, b2]"
      ],
      "metadata": {
        "id": "-jp6wYRIciba"
      },
      "execution_count": 231,
      "outputs": []
    },
    {
      "cell_type": "code",
      "source": [
        "\n",
        "for p in parameters:\n",
        "  p.requires_grad = True"
      ],
      "metadata": {
        "id": "b9ow0vVKe1m7"
      },
      "execution_count": 232,
      "outputs": []
    },
    {
      "cell_type": "code",
      "source": [
        "lossi = []\n",
        "lri = []\n",
        "stepi = []"
      ],
      "metadata": {
        "id": "NoBz7saPe42U"
      },
      "execution_count": 233,
      "outputs": []
    },
    {
      "cell_type": "code",
      "source": [
        "\n",
        "\n",
        "for i in range(200000):\n",
        "  \n",
        "  # minibatch construct\n",
        "  ix = torch.randint(0, Xtr.shape[0], (32,))  #32 is the batch size\n",
        "  \n",
        "  # forward pass\n",
        "  emb = C[Xtr[ix]] # (32, 3, 10)\n",
        "  h = torch.tanh(emb.view(-1, 30) @ W1 + b1) # (32, 200)\n",
        "  logits = h @ W2 + b2 # (32, 27)\n",
        "  loss = F.cross_entropy(logits, Ytr[ix])\n",
        "  #print(loss.item())\n",
        "  \n",
        "  # backward pass\n",
        "  for p in parameters:\n",
        "    p.grad = None\n",
        "  loss.backward()\n",
        "  \n",
        "  # update\n",
        "  #lr = lrs[i]\n",
        "  lr = 0.1 if i < 100000 else 0.01\n",
        "  for p in parameters:\n",
        "    p.data += -lr * p.grad\n",
        "\n",
        "  # track stats\n",
        "  #lri.append(lre[i])\n",
        "  stepi.append(i)\n",
        "  lossi.append(loss.log10().item()) #squashes the figure\n",
        "\n",
        "print(loss.item())"
      ],
      "metadata": {
        "colab": {
          "base_uri": "https://localhost:8080/"
        },
        "id": "AHJUHVooeIHs",
        "outputId": "84a15efa-25a1-4298-bd01-479075fb3a1e"
      },
      "execution_count": 234,
      "outputs": [
        {
          "output_type": "stream",
          "name": "stdout",
          "text": [
            "2.089254140853882\n"
          ]
        }
      ]
    },
    {
      "cell_type": "code",
      "source": [
        "plt.plot(stepi, lossi)"
      ],
      "metadata": {
        "colab": {
          "base_uri": "https://localhost:8080/",
          "height": 282
        },
        "id": "zyrYaYXhfVKr",
        "outputId": "7b3834a1-0465-44d8-da01-533b9bd337f4"
      },
      "execution_count": 235,
      "outputs": [
        {
          "output_type": "execute_result",
          "data": {
            "text/plain": [
              "[<matplotlib.lines.Line2D at 0x7fb96497fca0>]"
            ]
          },
          "metadata": {},
          "execution_count": 235
        },
        {
          "output_type": "display_data",
          "data": {
            "text/plain": [
              "<Figure size 432x288 with 1 Axes>"
            ],
            "image/png": "[encoded data removed]"
          },
          "metadata": {
            "needs_background": "light"
          }
        }
      ]
    },
    {
      "cell_type": "markdown",
      "source": [
        "the figure is thick cos the batch size is very small"
      ],
      "metadata": {
        "id": "KtIDyyRpfji_"
      }
    },
    {
      "cell_type": "code",
      "source": [
        "emb = C[Xdev] # (32, 3, 10)\n",
        "h = torch.tanh(emb.view(-1, 30) @ W1 + b1) # (32, 200)\n",
        "logits = h @ W2 + b2 # (32, 27)\n",
        "loss = F.cross_entropy(logits, Ydev)\n",
        "loss"
      ],
      "metadata": {
        "colab": {
          "base_uri": "https://localhost:8080/"
        },
        "id": "ysM_wl3QeIKs",
        "outputId": "6ededa7a-f380-4760-ae86-a019c1b35a1f"
      },
      "execution_count": 236,
      "outputs": [
        {
          "output_type": "execute_result",
          "data": {
            "text/plain": [
              "tensor(2.1654, grad_fn=<NllLossBackward0>)"
            ]
          },
          "metadata": {},
          "execution_count": 236
        }
      ]
    },
    {
      "cell_type": "markdown",
      "source": [
        "# Sampling from the model"
      ],
      "metadata": {
        "id": "aShQSzhzh5ze"
      }
    },
    {
      "cell_type": "code",
      "source": [
        "context = [0] * block_size\n",
        "C[torch.tensor([context])].shape\n"
      ],
      "metadata": {
        "id": "LyKSW9M2fUZf"
      },
      "execution_count": null,
      "outputs": []
    },
    {
      "cell_type": "code",
      "source": [
        "# sample from the model\n",
        "g = torch.Generator().manual_seed(2147483647 + 10)\n",
        "\n",
        "for _ in range(20):\n",
        "    \n",
        "    out = []\n",
        "    context = [0] * block_size # initialize with all ...\n",
        "    while True:\n",
        "      emb = C[torch.tensor([context])] # (1,block_size,d)\n",
        "      h = torch.tanh(emb.view(1, -1) @ W1 + b1)\n",
        "      logits = h @ W2 + b2\n",
        "      probs = F.softmax(logits, dim=1)\n",
        "      ix = torch.multinomial(probs, num_samples=1, generator=g).item()\n",
        "      context = context[1:] + [ix]\n",
        "      out.append(ix)\n",
        "      if ix == 0:\n",
        "        break\n",
        "    \n",
        "    print(''.join(itos[i] for i in out))\n"
      ],
      "metadata": {
        "colab": {
          "base_uri": "https://localhost:8080/"
        },
        "id": "i7CKltFAiB-1",
        "outputId": "4a39bc67-d0f2-4b26-c26e-2e3810dc5c6e"
      },
      "execution_count": 237,
      "outputs": [
        {
          "output_type": "stream",
          "name": "stdout",
          "text": [
            "carlah.\n",
            "amelle.\n",
            "khi.\n",
            "mili.\n",
            "taty.\n",
            "salaysa.\n",
            "jazonte.\n",
            "amerynci.\n",
            "aqui.\n",
            "nellara.\n",
            "chaiivia.\n",
            "leigh.\n",
            "ham.\n",
            "joce.\n",
            "quinn.\n",
            "saline.\n",
            "liveni.\n",
            "wazelo.\n",
            "dearysi.\n",
            "jaxeunitsabee.\n"
          ]
        }
      ]
    },
    {
      "cell_type": "code",
      "source": [],
      "metadata": {
        "id": "4u4Wo_W5igvT"
      },
      "execution_count": null,
      "outputs": []
    }
  ]
}