{
  "nbformat": 4,
  "nbformat_minor": 0,
  "metadata": {
    "colab": {
      "provenance": []
    },
    "kernelspec": {
      "name": "python3",
      "display_name": "Python 3"
    },
    "language_info": {
      "name": "python"
    },
    "accelerator": "GPU",
    "gpuClass": "standard"
  },
  "cells": [
    {
      "cell_type": "code",
      "execution_count": 1,
      "metadata": {
        "id": "7XBTRA-imF_q"
      },
      "outputs": [],
      "source": [
        "import math\n",
        "import numpy as np\n",
        "import random\n",
        "import matplotlib.pyplot as plt\n",
        "%matplotlib inline"
      ]
    },
    {
      "cell_type": "code",
      "source": [
        "\n",
        "class Value:\n",
        "  \n",
        "  \"\"\"\n",
        "  This class will containes many functions and it's grad:\n",
        "       __add__:              to add to numbers from Value type\n",
        "       __sub__ & __neg__:    for subtraction\n",
        "       __mul__:              multibly numbers from Value type\n",
        "       __pow__, __truediv__: works togither for dividing\n",
        "         tanh              : used for optimization\n",
        "         backward          : using for toplogical sort and calc the grad in the reverse direction\n",
        "\n",
        "\n",
        "  \"\"\"\n",
        "  \n",
        "  def __init__(self, data, _children=(), _op='', label=''):\n",
        "    self.data = data\n",
        "    self.grad = 0.0\n",
        "    self._backward = lambda: None\n",
        "    self._prev = set(_children)\n",
        "    self._op = _op\n",
        "    self.label = label\n",
        "\n",
        "  def __repr__(self):\n",
        "    return f\"Value(data={self.data})\"\n",
        "\n",
        "  def __add__(self, other):\n",
        "    other = other if isinstance(other, Value) else Value(other)\n",
        "    out = Value(self.data + other.data, (self, other), '+')\n",
        "    def _backward():\n",
        "      self.grad += 1.0 * out.grad\n",
        "      other.grad += 1.0 * out.grad\n",
        "    out._backward = _backward\n",
        "    return out\n",
        "\n",
        "  def __radd__(self, other): # other + self\n",
        "      return self + other\n",
        "\n",
        "  def tanh(self):\n",
        "    x = self.data\n",
        "    t = (math.exp(2*x) - 1)/(math.exp(2*x) + 1)\n",
        "    out = Value(t, (self, ), 'tanh')\n",
        "    def _backward():\n",
        "      self.grad += (1-t**2) * out.grad\n",
        "    out._backward = _backward\n",
        "    return out\n",
        "  \n",
        "\n",
        "  def __neg__(self): #-self\n",
        "    return self * -1\n",
        "\n",
        "  def __sub__(self, other): #self - other\n",
        "    return self + (-other)\n",
        "\n",
        "\n",
        "  def __mul__(self, other):\n",
        "    other = other if isinstance(other, Value) else Value(other)\n",
        "    out = Value(self.data * other.data, (self, other), '*')\n",
        "    def _backward():\n",
        "        self.grad += other.data * out.grad\n",
        "        other.grad += self.data * out.grad\n",
        "    out._backward = _backward\n",
        "    return out\n",
        "\n",
        "\n",
        "  def __rmul__(self, other):\n",
        "    return self * other\n",
        "\n",
        "\n",
        "  def __pow__(self, other):\n",
        "    assert isinstance(other, (int, float))\n",
        "    out = Value(self.data**other, (self,), f'**{other}')\n",
        "    def _backward():\n",
        "      self.grad += other* (self.data**(other-1)) * out.grad \n",
        "    out._backward = _backward\n",
        "    return out\n",
        "\n",
        "  def __truediv__(self, other):\n",
        "    return self*other**-1\n",
        "\n",
        "  def exp(self):\n",
        "    x = self.data\n",
        "    out = Value(math.exp(x), (self,), 'exp')\n",
        "    def _backward():\n",
        "      self.grad += out.data * out.grad\n",
        "    out._backward = _backward\n",
        "    return out\n",
        "  \n",
        "\n",
        "  def backward(self):\n",
        "    topo = []\n",
        "    visited = set()\n",
        "    def build_topo(v):\n",
        "      if v not in visited:\n",
        "        visited.add(v)\n",
        "        for child in v._prev:\n",
        "          build_topo(child)\n",
        "        topo.append(v)\n",
        "    build_topo(self)\n",
        "    self.grad = 1.0\n",
        "    for node in reversed(topo):\n",
        "      node._backward()\n"
      ],
      "metadata": {
        "id": "z0fQjNb_t1Lf"
      },
      "execution_count": 2,
      "outputs": []
    },
    {
      "cell_type": "markdown",
      "source": [
        "# Testing"
      ],
      "metadata": {
        "id": "EpzD5HY5klJs"
      }
    },
    {
      "cell_type": "code",
      "source": [
        "# mul\n",
        "\n",
        "a = Value(-3.0)\n",
        "b = Value(-3.0)\n",
        "\n",
        "c = a * b\n",
        "assert c.data == 9.0\n",
        "\n",
        "\n",
        "# exp\n",
        "\n",
        "e1 = a.exp()\n",
        "print(e1)\n",
        "\n",
        "# pow\n",
        "\n",
        "p1 = a ** 2\n",
        "\n",
        "assert p1.data == 9\n",
        "\n",
        "\n",
        "# negation\n",
        "n1 = -a\n",
        "assert n1.data == 3\n",
        "# true division"
      ],
      "metadata": {
        "colab": {
          "base_uri": "https://localhost:8080/"
        },
        "id": "gt7wNQxA7K5T",
        "outputId": "35a654d1-7f2b-425a-c502-702c768cb10e"
      },
      "execution_count": 6,
      "outputs": [
        {
          "output_type": "stream",
          "name": "stdout",
          "text": [
            "Value(data=0.049787068367863944)\n"
          ]
        }
      ]
    },
    {
      "cell_type": "code",
      "source": [
        "from graphviz import Digraph\n",
        "\n",
        "\"\"\"\n",
        "                this class will draw the whole Expression\n",
        "\"\"\"\n",
        "def trace(root):\n",
        "  # builds a set of all nodes and edges in a graph\n",
        "  nodes, edges = set(), set()\n",
        "  def build(v):\n",
        "    if v not in nodes:\n",
        "      nodes.add(v)\n",
        "      for child in v._prev:\n",
        "        edges.add((child, v))\n",
        "        build(child)\n",
        "  build(root)\n",
        "  return nodes, edges\n",
        "\n",
        "def draw_dot(root):\n",
        "  dot = Digraph(format='svg', graph_attr={'rankdir': 'LR'}) # LR = left to right\n",
        "  \n",
        "  nodes, edges = trace(root)\n",
        "  for n in nodes:\n",
        "    uid = str(id(n))\n",
        "    # for any value in the graph, create a rectangular ('record') node for it\n",
        "    dot.node(name = uid, label = \"{ %s | data %.4f | grad %.4f }\" % (n.label, n.data, n.grad), shape='record')\n",
        "    if n._op:\n",
        "      # if this value is a result of some operation, create an op node for it\n",
        "      dot.node(name = uid + n._op, label = n._op)\n",
        "      # and connect this node to it\n",
        "      dot.edge(uid + n._op, uid)\n",
        "\n",
        "  for n1, n2 in edges:\n",
        "    # connect n1 to the op node of n2\n",
        "    dot.edge(str(id(n1)), str(id(n2)) + n2._op)\n",
        "\n",
        "  return dot"
      ],
      "metadata": {
        "id": "S0sdFwY4GpAn"
      },
      "execution_count": null,
      "outputs": []
    },
    {
      "cell_type": "code",
      "source": [
        "# inputs x1,x2\n",
        "x1 = Value(2.0, label='x1')\n",
        "x2 = Value(0.0, label='x2')\n",
        "# weights w1,w2\n",
        "w1 = Value(-3.0, label='w1')\n",
        "w2 = Value(1.0, label='w2')\n",
        "# bias of the neuron\n",
        "b = Value(6.881373587019543, label='b')\n",
        "# x1*w1 + x2*w2 + b\n",
        "x1w1 = x1*w1; x1w1.label = 'x1*w1'\n",
        "x2w2 = x2*w2; x2w2.label = 'x2*w2'\n",
        "x1w1x2w2 = x1w1 + x2w2; x1w1x2w2.label = 'x1*w1 + x2*w2'\n",
        "n = x1w1x2w2 + b; n.label = 'n'\n",
        "o = n.tanh(); o.label = 'o'\n",
        "o.backward()\n",
        "draw_dot(o)"
      ],
      "metadata": {
        "id": "ywOhFhnPlJ7A",
        "colab": {
          "base_uri": "https://localhost:8080/",
          "height": 321
        },
        "outputId": "dd97a190-5cba-41a5-b2bc-953d393f1abd"
      },
      "execution_count": null,
      "outputs": [
        {
          "output_type": "execute_result",
          "data": {
            "text/plain": [
              "<graphviz.dot.Digraph at 0x7f70eb410590>"
            ],
            "image/svg+xml": "<?xml version=\"1.0\" encoding=\"UTF-8\" standalone=\"no\"?>\n<!DOCTYPE svg PUBLIC \"-//W3C//DTD SVG 1.1//EN\"\n \"http://www.w3.org/Graphics/SVG/1.1/DTD/svg11.dtd\">\n<!-- Generated by graphviz version 2.40.1 (20161225.0304)\n -->\n<!-- Title: %3 Pages: 1 -->\n<svg width=\"1637pt\" height=\"210pt\"\n viewBox=\"0.00 0.00 1637.00 210.00\" xmlns=\"http://www.w3.org/2000/svg\" xmlns:xlink=\"http://www.w3.org/1999/xlink\">\n<g id=\"graph0\" class=\"graph\" transform=\"scale(1 1) rotate(0) translate(4 206)\">\n<title>%3</title>\n<polygon fill=\"#ffffff\" stroke=\"transparent\" points=\"-4,4 -4,-206 1633,-206 1633,4 -4,4\"/>\n<!-- 140122959973904 -->\n<g id=\"node1\" class=\"node\">\n<title>140122959973904</title>\n<polygon fill=\"none\" stroke=\"#000000\" points=\"1111,-109.5 1111,-145.5 1307,-145.5 1307,-109.5 1111,-109.5\"/>\n<text text-anchor=\"middle\" x=\"1123\" y=\"-123.8\" font-family=\"Times,serif\" font-size=\"14.00\" fill=\"#000000\">n</text>\n<polyline fill=\"none\" stroke=\"#000000\" points=\"1135,-109.5 1135,-145.5 \"/>\n<text text-anchor=\"middle\" x=\"1177.5\" y=\"-123.8\" font-family=\"Times,serif\" font-size=\"14.00\" fill=\"#000000\">data 0.8814</text>\n<polyline fill=\"none\" stroke=\"#000000\" points=\"1220,-109.5 1220,-145.5 \"/>\n<text text-anchor=\"middle\" x=\"1263.5\" y=\"-123.8\" font-family=\"Times,serif\" font-size=\"14.00\" fill=\"#000000\">grad 0.5000</text>\n</g>\n<!-- 140122959974352tanh -->\n<g id=\"node15\" class=\"node\">\n<title>140122959974352tanh</title>\n<ellipse fill=\"none\" stroke=\"#000000\" cx=\"1370\" cy=\"-127.5\" rx=\"27\" ry=\"18\"/>\n<text text-anchor=\"middle\" x=\"1370\" y=\"-123.8\" font-family=\"Times,serif\" font-size=\"14.00\" fill=\"#000000\">tanh</text>\n</g>\n<!-- 140122959973904&#45;&gt;140122959974352tanh -->\n<g id=\"edge14\" class=\"edge\">\n<title>140122959973904&#45;&gt;140122959974352tanh</title>\n<path fill=\"none\" stroke=\"#000000\" d=\"M1307.2922,-127.5C1316.2042,-127.5 1324.8099,-127.5 1332.6423,-127.5\"/>\n<polygon fill=\"#000000\" stroke=\"#000000\" points=\"1332.7996,-131.0001 1342.7995,-127.5 1332.7995,-124.0001 1332.7996,-131.0001\"/>\n</g>\n<!-- 140122959973904+ -->\n<g id=\"node2\" class=\"node\">\n<title>140122959973904+</title>\n<ellipse fill=\"none\" stroke=\"#000000\" cx=\"1048\" cy=\"-127.5\" rx=\"27\" ry=\"18\"/>\n<text text-anchor=\"middle\" x=\"1048\" y=\"-123.8\" font-family=\"Times,serif\" font-size=\"14.00\" fill=\"#000000\">+</text>\n</g>\n<!-- 140122959973904+&#45;&gt;140122959973904 -->\n<g id=\"edge1\" class=\"edge\">\n<title>140122959973904+&#45;&gt;140122959973904</title>\n<path fill=\"none\" stroke=\"#000000\" d=\"M1075.3115,-127.5C1082.8223,-127.5 1091.4512,-127.5 1100.6318,-127.5\"/>\n<polygon fill=\"#000000\" stroke=\"#000000\" points=\"1100.7835,-131.0001 1110.7835,-127.5 1100.7835,-124.0001 1100.7835,-131.0001\"/>\n</g>\n<!-- 140122959973456 -->\n<g id=\"node3\" class=\"node\">\n<title>140122959973456</title>\n<polygon fill=\"none\" stroke=\"#000000\" points=\"2,-55.5 2,-91.5 209,-91.5 209,-55.5 2,-55.5\"/>\n<text text-anchor=\"middle\" x=\"19.5\" y=\"-69.8\" font-family=\"Times,serif\" font-size=\"14.00\" fill=\"#000000\">w2</text>\n<polyline fill=\"none\" stroke=\"#000000\" points=\"37,-55.5 37,-91.5 \"/>\n<text text-anchor=\"middle\" x=\"79.5\" y=\"-69.8\" font-family=\"Times,serif\" font-size=\"14.00\" fill=\"#000000\">data 1.0000</text>\n<polyline fill=\"none\" stroke=\"#000000\" points=\"122,-55.5 122,-91.5 \"/>\n<text text-anchor=\"middle\" x=\"165.5\" y=\"-69.8\" font-family=\"Times,serif\" font-size=\"14.00\" fill=\"#000000\">grad 0.0000</text>\n</g>\n<!-- 140122959972752* -->\n<g id=\"node13\" class=\"node\">\n<title>140122959972752*</title>\n<ellipse fill=\"none\" stroke=\"#000000\" cx=\"274\" cy=\"-73.5\" rx=\"27\" ry=\"18\"/>\n<text text-anchor=\"middle\" x=\"274\" y=\"-69.8\" font-family=\"Times,serif\" font-size=\"14.00\" fill=\"#000000\">*</text>\n</g>\n<!-- 140122959973456&#45;&gt;140122959972752* -->\n<g id=\"edge10\" class=\"edge\">\n<title>140122959973456&#45;&gt;140122959972752*</title>\n<path fill=\"none\" stroke=\"#000000\" d=\"M209.3354,-73.5C219.0497,-73.5 228.3963,-73.5 236.8187,-73.5\"/>\n<polygon fill=\"#000000\" stroke=\"#000000\" points=\"236.951,-77.0001 246.9509,-73.5 236.9509,-70.0001 236.951,-77.0001\"/>\n</g>\n<!-- 140122959973968 -->\n<g id=\"node4\" class=\"node\">\n<title>140122959973968</title>\n<polygon fill=\"none\" stroke=\"#000000\" points=\"337,-110.5 337,-146.5 570,-146.5 570,-110.5 337,-110.5\"/>\n<text text-anchor=\"middle\" x=\"365.5\" y=\"-124.8\" font-family=\"Times,serif\" font-size=\"14.00\" fill=\"#000000\">x1*w1</text>\n<polyline fill=\"none\" stroke=\"#000000\" points=\"394,-110.5 394,-146.5 \"/>\n<text text-anchor=\"middle\" x=\"438.5\" y=\"-124.8\" font-family=\"Times,serif\" font-size=\"14.00\" fill=\"#000000\">data &#45;6.0000</text>\n<polyline fill=\"none\" stroke=\"#000000\" points=\"483,-110.5 483,-146.5 \"/>\n<text text-anchor=\"middle\" x=\"526.5\" y=\"-124.8\" font-family=\"Times,serif\" font-size=\"14.00\" fill=\"#000000\">grad 0.5000</text>\n</g>\n<!-- 140122959972688+ -->\n<g id=\"node10\" class=\"node\">\n<title>140122959972688+</title>\n<ellipse fill=\"none\" stroke=\"#000000\" cx=\"633\" cy=\"-100.5\" rx=\"27\" ry=\"18\"/>\n<text text-anchor=\"middle\" x=\"633\" y=\"-96.8\" font-family=\"Times,serif\" font-size=\"14.00\" fill=\"#000000\">+</text>\n</g>\n<!-- 140122959973968&#45;&gt;140122959972688+ -->\n<g id=\"edge11\" class=\"edge\">\n<title>140122959973968&#45;&gt;140122959972688+</title>\n<path fill=\"none\" stroke=\"#000000\" d=\"M568.9566,-110.4901C578.7184,-108.9673 588.037,-107.5137 596.3947,-106.21\"/>\n<polygon fill=\"#000000\" stroke=\"#000000\" points=\"597.0871,-109.6444 606.4281,-104.6449 596.0082,-102.7281 597.0871,-109.6444\"/>\n</g>\n<!-- 140122959973968* -->\n<g id=\"node5\" class=\"node\">\n<title>140122959973968*</title>\n<ellipse fill=\"none\" stroke=\"#000000\" cx=\"274\" cy=\"-128.5\" rx=\"27\" ry=\"18\"/>\n<text text-anchor=\"middle\" x=\"274\" y=\"-124.8\" font-family=\"Times,serif\" font-size=\"14.00\" fill=\"#000000\">*</text>\n</g>\n<!-- 140122959973968*&#45;&gt;140122959973968 -->\n<g id=\"edge2\" class=\"edge\">\n<title>140122959973968*&#45;&gt;140122959973968</title>\n<path fill=\"none\" stroke=\"#000000\" d=\"M301.2622,-128.5C308.8324,-128.5 317.5801,-128.5 326.9781,-128.5\"/>\n<polygon fill=\"#000000\" stroke=\"#000000\" points=\"326.9853,-132.0001 336.9853,-128.5 326.9852,-125.0001 326.9853,-132.0001\"/>\n</g>\n<!-- 140122959970448 -->\n<g id=\"node6\" class=\"node\">\n<title>140122959970448</title>\n<polygon fill=\"none\" stroke=\"#000000\" points=\"742.5,-137.5 742.5,-173.5 938.5,-173.5 938.5,-137.5 742.5,-137.5\"/>\n<text text-anchor=\"middle\" x=\"754.5\" y=\"-151.8\" font-family=\"Times,serif\" font-size=\"14.00\" fill=\"#000000\">b</text>\n<polyline fill=\"none\" stroke=\"#000000\" points=\"766.5,-137.5 766.5,-173.5 \"/>\n<text text-anchor=\"middle\" x=\"809\" y=\"-151.8\" font-family=\"Times,serif\" font-size=\"14.00\" fill=\"#000000\">data 6.8814</text>\n<polyline fill=\"none\" stroke=\"#000000\" points=\"851.5,-137.5 851.5,-173.5 \"/>\n<text text-anchor=\"middle\" x=\"895\" y=\"-151.8\" font-family=\"Times,serif\" font-size=\"14.00\" fill=\"#000000\">grad 0.5000</text>\n</g>\n<!-- 140122959970448&#45;&gt;140122959973904+ -->\n<g id=\"edge6\" class=\"edge\">\n<title>140122959970448&#45;&gt;140122959973904+</title>\n<path fill=\"none\" stroke=\"#000000\" d=\"M938.7811,-142.238C964.6496,-138.7473 990.9727,-135.1952 1011.2938,-132.4531\"/>\n<polygon fill=\"#000000\" stroke=\"#000000\" points=\"1011.897,-135.9035 1021.3391,-131.0976 1010.9609,-128.9664 1011.897,-135.9035\"/>\n</g>\n<!-- 140122959974032 -->\n<g id=\"node7\" class=\"node\">\n<title>140122959974032</title>\n<polygon fill=\"none\" stroke=\"#000000\" points=\"0,-165.5 0,-201.5 211,-201.5 211,-165.5 0,-165.5\"/>\n<text text-anchor=\"middle\" x=\"17.5\" y=\"-179.8\" font-family=\"Times,serif\" font-size=\"14.00\" fill=\"#000000\">w1</text>\n<polyline fill=\"none\" stroke=\"#000000\" points=\"35,-165.5 35,-201.5 \"/>\n<text text-anchor=\"middle\" x=\"79.5\" y=\"-179.8\" font-family=\"Times,serif\" font-size=\"14.00\" fill=\"#000000\">data &#45;3.0000</text>\n<polyline fill=\"none\" stroke=\"#000000\" points=\"124,-165.5 124,-201.5 \"/>\n<text text-anchor=\"middle\" x=\"167.5\" y=\"-179.8\" font-family=\"Times,serif\" font-size=\"14.00\" fill=\"#000000\">grad 1.0000</text>\n</g>\n<!-- 140122959974032&#45;&gt;140122959973968* -->\n<g id=\"edge7\" class=\"edge\">\n<title>140122959974032&#45;&gt;140122959973968*</title>\n<path fill=\"none\" stroke=\"#000000\" d=\"M182.3017,-165.4558C192.0361,-162.698 201.8026,-159.6955 211,-156.5 221.6243,-152.8088 232.9373,-148.0548 243.0021,-143.5155\"/>\n<polygon fill=\"#000000\" stroke=\"#000000\" points=\"244.5909,-146.6371 252.2061,-139.271 241.6594,-140.2805 244.5909,-146.6371\"/>\n</g>\n<!-- 140122959972048 -->\n<g id=\"node8\" class=\"node\">\n<title>140122959972048</title>\n<polygon fill=\"none\" stroke=\"#000000\" points=\"3.5,-.5 3.5,-36.5 207.5,-36.5 207.5,-.5 3.5,-.5\"/>\n<text text-anchor=\"middle\" x=\"19.5\" y=\"-14.8\" font-family=\"Times,serif\" font-size=\"14.00\" fill=\"#000000\">x2</text>\n<polyline fill=\"none\" stroke=\"#000000\" points=\"35.5,-.5 35.5,-36.5 \"/>\n<text text-anchor=\"middle\" x=\"78\" y=\"-14.8\" font-family=\"Times,serif\" font-size=\"14.00\" fill=\"#000000\">data 0.0000</text>\n<polyline fill=\"none\" stroke=\"#000000\" points=\"120.5,-.5 120.5,-36.5 \"/>\n<text text-anchor=\"middle\" x=\"164\" y=\"-14.8\" font-family=\"Times,serif\" font-size=\"14.00\" fill=\"#000000\">grad 0.5000</text>\n</g>\n<!-- 140122959972048&#45;&gt;140122959972752* -->\n<g id=\"edge9\" class=\"edge\">\n<title>140122959972048&#45;&gt;140122959972752*</title>\n<path fill=\"none\" stroke=\"#000000\" d=\"M179.1277,-36.5688C189.8946,-39.636 200.7889,-42.9778 211,-46.5 221.4855,-50.1168 232.6874,-54.6793 242.694,-59.0193\"/>\n<polygon fill=\"#000000\" stroke=\"#000000\" points=\"241.2981,-62.229 251.8592,-63.0741 244.1302,-55.8274 241.2981,-62.229\"/>\n</g>\n<!-- 140122959972688 -->\n<g id=\"node9\" class=\"node\">\n<title>140122959972688</title>\n<polygon fill=\"none\" stroke=\"#000000\" points=\"696,-82.5 696,-118.5 985,-118.5 985,-82.5 696,-82.5\"/>\n<text text-anchor=\"middle\" x=\"752.5\" y=\"-96.8\" font-family=\"Times,serif\" font-size=\"14.00\" fill=\"#000000\">x1*w1 + x2*w2</text>\n<polyline fill=\"none\" stroke=\"#000000\" points=\"809,-82.5 809,-118.5 \"/>\n<text text-anchor=\"middle\" x=\"853.5\" y=\"-96.8\" font-family=\"Times,serif\" font-size=\"14.00\" fill=\"#000000\">data &#45;6.0000</text>\n<polyline fill=\"none\" stroke=\"#000000\" points=\"898,-82.5 898,-118.5 \"/>\n<text text-anchor=\"middle\" x=\"941.5\" y=\"-96.8\" font-family=\"Times,serif\" font-size=\"14.00\" fill=\"#000000\">grad 0.5000</text>\n</g>\n<!-- 140122959972688&#45;&gt;140122959973904+ -->\n<g id=\"edge8\" class=\"edge\">\n<title>140122959972688&#45;&gt;140122959973904+</title>\n<path fill=\"none\" stroke=\"#000000\" d=\"M978.9055,-118.5094C990.5887,-120.0296 1001.6094,-121.4636 1011.2737,-122.7212\"/>\n<polygon fill=\"#000000\" stroke=\"#000000\" points=\"1010.8271,-126.1925 1021.1952,-124.0121 1011.7304,-119.251 1010.8271,-126.1925\"/>\n</g>\n<!-- 140122959972688+&#45;&gt;140122959972688 -->\n<g id=\"edge3\" class=\"edge\">\n<title>140122959972688+&#45;&gt;140122959972688</title>\n<path fill=\"none\" stroke=\"#000000\" d=\"M660.127,-100.5C667.628,-100.5 676.3363,-100.5 685.7965,-100.5\"/>\n<polygon fill=\"#000000\" stroke=\"#000000\" points=\"685.9081,-104.0001 695.908,-100.5 685.908,-97.0001 685.9081,-104.0001\"/>\n</g>\n<!-- 140122959971664 -->\n<g id=\"node11\" class=\"node\">\n<title>140122959971664</title>\n<polygon fill=\"none\" stroke=\"#000000\" points=\"1,-110.5 1,-146.5 210,-146.5 210,-110.5 1,-110.5\"/>\n<text text-anchor=\"middle\" x=\"17\" y=\"-124.8\" font-family=\"Times,serif\" font-size=\"14.00\" fill=\"#000000\">x1</text>\n<polyline fill=\"none\" stroke=\"#000000\" points=\"33,-110.5 33,-146.5 \"/>\n<text text-anchor=\"middle\" x=\"75.5\" y=\"-124.8\" font-family=\"Times,serif\" font-size=\"14.00\" fill=\"#000000\">data 2.0000</text>\n<polyline fill=\"none\" stroke=\"#000000\" points=\"118,-110.5 118,-146.5 \"/>\n<text text-anchor=\"middle\" x=\"164\" y=\"-124.8\" font-family=\"Times,serif\" font-size=\"14.00\" fill=\"#000000\">grad &#45;1.5000</text>\n</g>\n<!-- 140122959971664&#45;&gt;140122959973968* -->\n<g id=\"edge12\" class=\"edge\">\n<title>140122959971664&#45;&gt;140122959973968*</title>\n<path fill=\"none\" stroke=\"#000000\" d=\"M210.2974,-128.5C219.6043,-128.5 228.5549,-128.5 236.6562,-128.5\"/>\n<polygon fill=\"#000000\" stroke=\"#000000\" points=\"236.7755,-132.0001 246.7754,-128.5 236.7754,-125.0001 236.7755,-132.0001\"/>\n</g>\n<!-- 140122959972752 -->\n<g id=\"node12\" class=\"node\">\n<title>140122959972752</title>\n<polygon fill=\"none\" stroke=\"#000000\" points=\"339,-55.5 339,-91.5 568,-91.5 568,-55.5 339,-55.5\"/>\n<text text-anchor=\"middle\" x=\"367.5\" y=\"-69.8\" font-family=\"Times,serif\" font-size=\"14.00\" fill=\"#000000\">x2*w2</text>\n<polyline fill=\"none\" stroke=\"#000000\" points=\"396,-55.5 396,-91.5 \"/>\n<text text-anchor=\"middle\" x=\"438.5\" y=\"-69.8\" font-family=\"Times,serif\" font-size=\"14.00\" fill=\"#000000\">data 0.0000</text>\n<polyline fill=\"none\" stroke=\"#000000\" points=\"481,-55.5 481,-91.5 \"/>\n<text text-anchor=\"middle\" x=\"524.5\" y=\"-69.8\" font-family=\"Times,serif\" font-size=\"14.00\" fill=\"#000000\">grad 0.5000</text>\n</g>\n<!-- 140122959972752&#45;&gt;140122959972688+ -->\n<g id=\"edge13\" class=\"edge\">\n<title>140122959972752&#45;&gt;140122959972688+</title>\n<path fill=\"none\" stroke=\"#000000\" d=\"M568.1964,-90.7524C578.2591,-92.266 587.8673,-93.7112 596.4577,-95.0034\"/>\n<polygon fill=\"#000000\" stroke=\"#000000\" points=\"595.984,-98.4714 606.3934,-96.4979 597.0253,-91.5493 595.984,-98.4714\"/>\n</g>\n<!-- 140122959972752*&#45;&gt;140122959972752 -->\n<g id=\"edge4\" class=\"edge\">\n<title>140122959972752*&#45;&gt;140122959972752</title>\n<path fill=\"none\" stroke=\"#000000\" d=\"M301.2622,-73.5C309.2798,-73.5 318.6183,-73.5 328.6514,-73.5\"/>\n<polygon fill=\"#000000\" stroke=\"#000000\" points=\"328.8929,-77.0001 338.8928,-73.5 328.8928,-70.0001 328.8929,-77.0001\"/>\n</g>\n<!-- 140122959974352 -->\n<g id=\"node14\" class=\"node\">\n<title>140122959974352</title>\n<polygon fill=\"none\" stroke=\"#000000\" points=\"1433,-109.5 1433,-145.5 1629,-145.5 1629,-109.5 1433,-109.5\"/>\n<text text-anchor=\"middle\" x=\"1445\" y=\"-123.8\" font-family=\"Times,serif\" font-size=\"14.00\" fill=\"#000000\">o</text>\n<polyline fill=\"none\" stroke=\"#000000\" points=\"1457,-109.5 1457,-145.5 \"/>\n<text text-anchor=\"middle\" x=\"1499.5\" y=\"-123.8\" font-family=\"Times,serif\" font-size=\"14.00\" fill=\"#000000\">data 0.7071</text>\n<polyline fill=\"none\" stroke=\"#000000\" points=\"1542,-109.5 1542,-145.5 \"/>\n<text text-anchor=\"middle\" x=\"1585.5\" y=\"-123.8\" font-family=\"Times,serif\" font-size=\"14.00\" fill=\"#000000\">grad 1.0000</text>\n</g>\n<!-- 140122959974352tanh&#45;&gt;140122959974352 -->\n<g id=\"edge5\" class=\"edge\">\n<title>140122959974352tanh&#45;&gt;140122959974352</title>\n<path fill=\"none\" stroke=\"#000000\" d=\"M1397.3115,-127.5C1404.8223,-127.5 1413.4512,-127.5 1422.6318,-127.5\"/>\n<polygon fill=\"#000000\" stroke=\"#000000\" points=\"1422.7835,-131.0001 1432.7835,-127.5 1422.7835,-124.0001 1422.7835,-131.0001\"/>\n</g>\n</g>\n</svg>\n"
          },
          "metadata": {},
          "execution_count": 32
        }
      ]
    },
    {
      "cell_type": "code",
      "source": [
        "# inputs x1,x2\n",
        "x1 = Value(2.0, label='x1')\n",
        "x2 = Value(0.0, label='x2')\n",
        "# weights w1,w2\n",
        "w1 = Value(-3.0, label='w1')\n",
        "w2 = Value(1.0, label='w2')\n",
        "# bias of the neuron\n",
        "b = Value(6.881373587019543, label='b')\n",
        "# x1*w1 + x2*w2 + b\n",
        "x1w1 = x1*w1; x1w1.label = 'x1*w1'\n",
        "x2w2 = x2*w2; x2w2.label = 'x2*w2'\n",
        "x1w1x2w2 = x1w1 + x2w2; x1w1x2w2.label = 'x1*w1 + x2*w2'\n",
        "\n",
        "n = x1w1x2w2 + b; n.label = 'n'\n",
        "e = (2*n).exp()\n",
        "o = (e-1)/(e+1)\n",
        "# o = n.tanh(); \n",
        "o.label = 'o'\n",
        "o.backward()\n",
        "draw_dot(o)"
      ],
      "metadata": {
        "id": "LpUItL1Kus0i",
        "colab": {
          "base_uri": "https://localhost:8080/",
          "height": 321
        },
        "outputId": "0c76ae6f-1734-4b1c-dca7-873f986771dd"
      },
      "execution_count": null,
      "outputs": [
        {
          "output_type": "execute_result",
          "data": {
            "text/plain": [
              "<graphviz.dot.Digraph at 0x7f70eb3cb8d0>"
            ],
            "image/svg+xml": "<?xml version=\"1.0\" encoding=\"UTF-8\" standalone=\"no\"?>\n<!DOCTYPE svg PUBLIC \"-//W3C//DTD SVG 1.1//EN\"\n \"http://www.w3.org/Graphics/SVG/1.1/DTD/svg11.dtd\">\n<!-- Generated by graphviz version 2.40.1 (20161225.0304)\n -->\n<!-- Title: %3 Pages: 1 -->\n<svg width=\"3057pt\" height=\"210pt\"\n viewBox=\"0.00 0.00 3057.00 210.00\" xmlns=\"http://www.w3.org/2000/svg\" xmlns:xlink=\"http://www.w3.org/1999/xlink\">\n<g id=\"graph0\" class=\"graph\" transform=\"scale(1 1) rotate(0) translate(4 206)\">\n<title>%3</title>\n<polygon fill=\"#ffffff\" stroke=\"transparent\" points=\"-4,4 -4,-206 3053,-206 3053,4 -4,4\"/>\n<!-- 140122959690768 -->\n<g id=\"node1\" class=\"node\">\n<title>140122959690768</title>\n<polygon fill=\"none\" stroke=\"#000000\" points=\"2535,-106.5 2535,-142.5 2727,-142.5 2727,-106.5 2535,-106.5\"/>\n<text text-anchor=\"middle\" x=\"2545\" y=\"-120.8\" font-family=\"Times,serif\" font-size=\"14.00\" fill=\"#000000\"> </text>\n<polyline fill=\"none\" stroke=\"#000000\" points=\"2555,-106.5 2555,-142.5 \"/>\n<text text-anchor=\"middle\" x=\"2597.5\" y=\"-120.8\" font-family=\"Times,serif\" font-size=\"14.00\" fill=\"#000000\">data 0.1464</text>\n<polyline fill=\"none\" stroke=\"#000000\" points=\"2640,-106.5 2640,-142.5 \"/>\n<text text-anchor=\"middle\" x=\"2683.5\" y=\"-120.8\" font-family=\"Times,serif\" font-size=\"14.00\" fill=\"#000000\">grad 4.8284</text>\n</g>\n<!-- 140122959691088* -->\n<g id=\"node20\" class=\"node\">\n<title>140122959691088*</title>\n<ellipse fill=\"none\" stroke=\"#000000\" cx=\"2790\" cy=\"-98.5\" rx=\"27\" ry=\"18\"/>\n<text text-anchor=\"middle\" x=\"2790\" y=\"-94.8\" font-family=\"Times,serif\" font-size=\"14.00\" fill=\"#000000\">*</text>\n</g>\n<!-- 140122959690768&#45;&gt;140122959691088* -->\n<g id=\"edge11\" class=\"edge\">\n<title>140122959690768&#45;&gt;140122959691088*</title>\n<path fill=\"none\" stroke=\"#000000\" d=\"M2727.159,-108.7759C2736.4355,-107.259 2745.3952,-105.7939 2753.5016,-104.4683\"/>\n<polygon fill=\"#000000\" stroke=\"#000000\" points=\"2754.3176,-107.8814 2763.6217,-102.8134 2753.1879,-100.9732 2754.3176,-107.8814\"/>\n</g>\n<!-- 140122959690768**&#45;1 -->\n<g id=\"node2\" class=\"node\">\n<title>140122959690768**&#45;1</title>\n<ellipse fill=\"none\" stroke=\"#000000\" cx=\"2403\" cy=\"-126.5\" rx=\"28.6953\" ry=\"18\"/>\n<text text-anchor=\"middle\" x=\"2403\" y=\"-122.8\" font-family=\"Times,serif\" font-size=\"14.00\" fill=\"#000000\">**&#45;1</text>\n</g>\n<!-- 140122959690768**&#45;1&#45;&gt;140122959690768 -->\n<g id=\"edge1\" class=\"edge\">\n<title>140122959690768**&#45;1&#45;&gt;140122959690768</title>\n<path fill=\"none\" stroke=\"#000000\" d=\"M2431.8764,-126.2467C2455.5427,-126.0391 2490.5807,-125.7317 2524.6954,-125.4325\"/>\n<polygon fill=\"#000000\" stroke=\"#000000\" points=\"2524.7904,-128.9319 2534.7593,-125.3442 2524.7289,-121.9322 2524.7904,-128.9319\"/>\n</g>\n<!-- 140122959688208 -->\n<g id=\"node3\" class=\"node\">\n<title>140122959688208</title>\n<polygon fill=\"none\" stroke=\"#000000\" points=\"337,-110.5 337,-146.5 570,-146.5 570,-110.5 337,-110.5\"/>\n<text text-anchor=\"middle\" x=\"365.5\" y=\"-124.8\" font-family=\"Times,serif\" font-size=\"14.00\" fill=\"#000000\">x1*w1</text>\n<polyline fill=\"none\" stroke=\"#000000\" points=\"394,-110.5 394,-146.5 \"/>\n<text text-anchor=\"middle\" x=\"438.5\" y=\"-124.8\" font-family=\"Times,serif\" font-size=\"14.00\" fill=\"#000000\">data &#45;6.0000</text>\n<polyline fill=\"none\" stroke=\"#000000\" points=\"483,-110.5 483,-146.5 \"/>\n<text text-anchor=\"middle\" x=\"526.5\" y=\"-124.8\" font-family=\"Times,serif\" font-size=\"14.00\" fill=\"#000000\">grad 0.5000</text>\n</g>\n<!-- 140122959689040+ -->\n<g id=\"node22\" class=\"node\">\n<title>140122959689040+</title>\n<ellipse fill=\"none\" stroke=\"#000000\" cx=\"633\" cy=\"-100.5\" rx=\"27\" ry=\"18\"/>\n<text text-anchor=\"middle\" x=\"633\" y=\"-96.8\" font-family=\"Times,serif\" font-size=\"14.00\" fill=\"#000000\">+</text>\n</g>\n<!-- 140122959688208&#45;&gt;140122959689040+ -->\n<g id=\"edge13\" class=\"edge\">\n<title>140122959688208&#45;&gt;140122959689040+</title>\n<path fill=\"none\" stroke=\"#000000\" d=\"M568.9566,-110.4901C578.7184,-108.9673 588.037,-107.5137 596.3947,-106.21\"/>\n<polygon fill=\"#000000\" stroke=\"#000000\" points=\"597.0871,-109.6444 606.4281,-104.6449 596.0082,-102.7281 597.0871,-109.6444\"/>\n</g>\n<!-- 140122959688208* -->\n<g id=\"node4\" class=\"node\">\n<title>140122959688208*</title>\n<ellipse fill=\"none\" stroke=\"#000000\" cx=\"274\" cy=\"-128.5\" rx=\"27\" ry=\"18\"/>\n<text text-anchor=\"middle\" x=\"274\" y=\"-124.8\" font-family=\"Times,serif\" font-size=\"14.00\" fill=\"#000000\">*</text>\n</g>\n<!-- 140122959688208*&#45;&gt;140122959688208 -->\n<g id=\"edge2\" class=\"edge\">\n<title>140122959688208*&#45;&gt;140122959688208</title>\n<path fill=\"none\" stroke=\"#000000\" d=\"M301.2622,-128.5C308.8324,-128.5 317.5801,-128.5 326.9781,-128.5\"/>\n<polygon fill=\"#000000\" stroke=\"#000000\" points=\"326.9853,-132.0001 336.9853,-128.5 326.9852,-125.0001 326.9853,-132.0001\"/>\n</g>\n<!-- 140122959689296 -->\n<g id=\"node5\" class=\"node\">\n<title>140122959689296</title>\n<polygon fill=\"none\" stroke=\"#000000\" points=\"1111,-109.5 1111,-145.5 1307,-145.5 1307,-109.5 1111,-109.5\"/>\n<text text-anchor=\"middle\" x=\"1123\" y=\"-123.8\" font-family=\"Times,serif\" font-size=\"14.00\" fill=\"#000000\">n</text>\n<polyline fill=\"none\" stroke=\"#000000\" points=\"1135,-109.5 1135,-145.5 \"/>\n<text text-anchor=\"middle\" x=\"1177.5\" y=\"-123.8\" font-family=\"Times,serif\" font-size=\"14.00\" fill=\"#000000\">data 0.8814</text>\n<polyline fill=\"none\" stroke=\"#000000\" points=\"1220,-109.5 1220,-145.5 \"/>\n<text text-anchor=\"middle\" x=\"1263.5\" y=\"-123.8\" font-family=\"Times,serif\" font-size=\"14.00\" fill=\"#000000\">grad 0.5000</text>\n</g>\n<!-- 140122959689680* -->\n<g id=\"node28\" class=\"node\">\n<title>140122959689680*</title>\n<ellipse fill=\"none\" stroke=\"#000000\" cx=\"1370\" cy=\"-99.5\" rx=\"27\" ry=\"18\"/>\n<text text-anchor=\"middle\" x=\"1370\" y=\"-95.8\" font-family=\"Times,serif\" font-size=\"14.00\" fill=\"#000000\">*</text>\n</g>\n<!-- 140122959689296&#45;&gt;140122959689680* -->\n<g id=\"edge28\" class=\"edge\">\n<title>140122959689296&#45;&gt;140122959689680*</title>\n<path fill=\"none\" stroke=\"#000000\" d=\"M1307.2922,-110.4057C1316.5786,-108.7907 1325.5324,-107.2335 1333.6253,-105.826\"/>\n<polygon fill=\"#000000\" stroke=\"#000000\" points=\"1334.4713,-109.2315 1343.7237,-104.0698 1333.2719,-102.335 1334.4713,-109.2315\"/>\n</g>\n<!-- 140122959689296+ -->\n<g id=\"node6\" class=\"node\">\n<title>140122959689296+</title>\n<ellipse fill=\"none\" stroke=\"#000000\" cx=\"1048\" cy=\"-127.5\" rx=\"27\" ry=\"18\"/>\n<text text-anchor=\"middle\" x=\"1048\" y=\"-123.8\" font-family=\"Times,serif\" font-size=\"14.00\" fill=\"#000000\">+</text>\n</g>\n<!-- 140122959689296+&#45;&gt;140122959689296 -->\n<g id=\"edge3\" class=\"edge\">\n<title>140122959689296+&#45;&gt;140122959689296</title>\n<path fill=\"none\" stroke=\"#000000\" d=\"M1075.3115,-127.5C1082.8223,-127.5 1091.4512,-127.5 1100.6318,-127.5\"/>\n<polygon fill=\"#000000\" stroke=\"#000000\" points=\"1100.7835,-131.0001 1110.7835,-127.5 1100.7835,-124.0001 1100.7835,-131.0001\"/>\n</g>\n<!-- 140122959688784 -->\n<g id=\"node7\" class=\"node\">\n<title>140122959688784</title>\n<polygon fill=\"none\" stroke=\"#000000\" points=\"339,-55.5 339,-91.5 568,-91.5 568,-55.5 339,-55.5\"/>\n<text text-anchor=\"middle\" x=\"367.5\" y=\"-69.8\" font-family=\"Times,serif\" font-size=\"14.00\" fill=\"#000000\">x2*w2</text>\n<polyline fill=\"none\" stroke=\"#000000\" points=\"396,-55.5 396,-91.5 \"/>\n<text text-anchor=\"middle\" x=\"438.5\" y=\"-69.8\" font-family=\"Times,serif\" font-size=\"14.00\" fill=\"#000000\">data 0.0000</text>\n<polyline fill=\"none\" stroke=\"#000000\" points=\"481,-55.5 481,-91.5 \"/>\n<text text-anchor=\"middle\" x=\"524.5\" y=\"-69.8\" font-family=\"Times,serif\" font-size=\"14.00\" fill=\"#000000\">grad 0.5000</text>\n</g>\n<!-- 140122959688784&#45;&gt;140122959689040+ -->\n<g id=\"edge27\" class=\"edge\">\n<title>140122959688784&#45;&gt;140122959689040+</title>\n<path fill=\"none\" stroke=\"#000000\" d=\"M568.1964,-90.7524C578.2591,-92.266 587.8673,-93.7112 596.4577,-95.0034\"/>\n<polygon fill=\"#000000\" stroke=\"#000000\" points=\"595.984,-98.4714 606.3934,-96.4979 597.0253,-91.5493 595.984,-98.4714\"/>\n</g>\n<!-- 140122959688784* -->\n<g id=\"node8\" class=\"node\">\n<title>140122959688784*</title>\n<ellipse fill=\"none\" stroke=\"#000000\" cx=\"274\" cy=\"-73.5\" rx=\"27\" ry=\"18\"/>\n<text text-anchor=\"middle\" x=\"274\" y=\"-69.8\" font-family=\"Times,serif\" font-size=\"14.00\" fill=\"#000000\">*</text>\n</g>\n<!-- 140122959688784*&#45;&gt;140122959688784 -->\n<g id=\"edge4\" class=\"edge\">\n<title>140122959688784*&#45;&gt;140122959688784</title>\n<path fill=\"none\" stroke=\"#000000\" d=\"M301.2622,-73.5C309.2798,-73.5 318.6183,-73.5 328.6514,-73.5\"/>\n<polygon fill=\"#000000\" stroke=\"#000000\" points=\"328.8929,-77.0001 338.8928,-73.5 328.8928,-70.0001 328.8929,-77.0001\"/>\n</g>\n<!-- 140122959688272 -->\n<g id=\"node9\" class=\"node\">\n<title>140122959688272</title>\n<polygon fill=\"none\" stroke=\"#000000\" points=\"2,-55.5 2,-91.5 209,-91.5 209,-55.5 2,-55.5\"/>\n<text text-anchor=\"middle\" x=\"19.5\" y=\"-69.8\" font-family=\"Times,serif\" font-size=\"14.00\" fill=\"#000000\">w2</text>\n<polyline fill=\"none\" stroke=\"#000000\" points=\"37,-55.5 37,-91.5 \"/>\n<text text-anchor=\"middle\" x=\"79.5\" y=\"-69.8\" font-family=\"Times,serif\" font-size=\"14.00\" fill=\"#000000\">data 1.0000</text>\n<polyline fill=\"none\" stroke=\"#000000\" points=\"122,-55.5 122,-91.5 \"/>\n<text text-anchor=\"middle\" x=\"165.5\" y=\"-69.8\" font-family=\"Times,serif\" font-size=\"14.00\" fill=\"#000000\">grad 0.0000</text>\n</g>\n<!-- 140122959688272&#45;&gt;140122959688784* -->\n<g id=\"edge15\" class=\"edge\">\n<title>140122959688272&#45;&gt;140122959688784*</title>\n<path fill=\"none\" stroke=\"#000000\" d=\"M209.3354,-73.5C219.0497,-73.5 228.3963,-73.5 236.8187,-73.5\"/>\n<polygon fill=\"#000000\" stroke=\"#000000\" points=\"236.951,-77.0001 246.9509,-73.5 236.9509,-70.0001 236.951,-77.0001\"/>\n</g>\n<!-- 140122959689872 -->\n<g id=\"node10\" class=\"node\">\n<title>140122959689872</title>\n<polygon fill=\"none\" stroke=\"#000000\" points=\"1753.5,-81.5 1753.5,-117.5 1945.5,-117.5 1945.5,-81.5 1753.5,-81.5\"/>\n<text text-anchor=\"middle\" x=\"1763.5\" y=\"-95.8\" font-family=\"Times,serif\" font-size=\"14.00\" fill=\"#000000\"> </text>\n<polyline fill=\"none\" stroke=\"#000000\" points=\"1773.5,-81.5 1773.5,-117.5 \"/>\n<text text-anchor=\"middle\" x=\"1816\" y=\"-95.8\" font-family=\"Times,serif\" font-size=\"14.00\" fill=\"#000000\">data 5.8284</text>\n<polyline fill=\"none\" stroke=\"#000000\" points=\"1858.5,-81.5 1858.5,-117.5 \"/>\n<text text-anchor=\"middle\" x=\"1902\" y=\"-95.8\" font-family=\"Times,serif\" font-size=\"14.00\" fill=\"#000000\">grad 0.0429</text>\n</g>\n<!-- 140122959690192+ -->\n<g id=\"node15\" class=\"node\">\n<title>140122959690192+</title>\n<ellipse fill=\"none\" stroke=\"#000000\" cx=\"2011\" cy=\"-71.5\" rx=\"27\" ry=\"18\"/>\n<text text-anchor=\"middle\" x=\"2011\" y=\"-67.8\" font-family=\"Times,serif\" font-size=\"14.00\" fill=\"#000000\">+</text>\n</g>\n<!-- 140122959689872&#45;&gt;140122959690192+ -->\n<g id=\"edge23\" class=\"edge\">\n<title>140122959689872&#45;&gt;140122959690192+</title>\n<path fill=\"none\" stroke=\"#000000\" d=\"M1945.7773,-82.808C1956.0703,-81.0234 1966.0136,-79.2995 1974.9036,-77.7582\"/>\n<polygon fill=\"#000000\" stroke=\"#000000\" points=\"1975.5587,-81.1969 1984.8137,-76.04 1974.3628,-74.2998 1975.5587,-81.1969\"/>\n</g>\n<!-- 140122959690512+ -->\n<g id=\"node17\" class=\"node\">\n<title>140122959690512+</title>\n<ellipse fill=\"none\" stroke=\"#000000\" cx=\"2011\" cy=\"-126.5\" rx=\"27\" ry=\"18\"/>\n<text text-anchor=\"middle\" x=\"2011\" y=\"-122.8\" font-family=\"Times,serif\" font-size=\"14.00\" fill=\"#000000\">+</text>\n</g>\n<!-- 140122959689872&#45;&gt;140122959690512+ -->\n<g id=\"edge24\" class=\"edge\">\n<title>140122959689872&#45;&gt;140122959690512+</title>\n<path fill=\"none\" stroke=\"#000000\" d=\"M1945.7773,-115.5959C1955.8624,-117.2819 1965.6117,-118.9119 1974.3636,-120.375\"/>\n<polygon fill=\"#000000\" stroke=\"#000000\" points=\"1974.0594,-123.8727 1984.4997,-122.0696 1975.2137,-116.9685 1974.0594,-123.8727\"/>\n</g>\n<!-- 140122959689872exp -->\n<g id=\"node11\" class=\"node\">\n<title>140122959689872exp</title>\n<ellipse fill=\"none\" stroke=\"#000000\" cx=\"1688\" cy=\"-99.5\" rx=\"27\" ry=\"18\"/>\n<text text-anchor=\"middle\" x=\"1688\" y=\"-95.8\" font-family=\"Times,serif\" font-size=\"14.00\" fill=\"#000000\">exp</text>\n</g>\n<!-- 140122959689872exp&#45;&gt;140122959689872 -->\n<g id=\"edge5\" class=\"edge\">\n<title>140122959689872exp&#45;&gt;140122959689872</title>\n<path fill=\"none\" stroke=\"#000000\" d=\"M1715.0315,-99.5C1723.3333,-99.5 1733.0215,-99.5 1743.3247,-99.5\"/>\n<polygon fill=\"#000000\" stroke=\"#000000\" points=\"1743.3664,-103.0001 1753.3663,-99.5 1743.3663,-96.0001 1743.3664,-103.0001\"/>\n</g>\n<!-- 140122959688400 -->\n<g id=\"node12\" class=\"node\">\n<title>140122959688400</title>\n<polygon fill=\"none\" stroke=\"#000000\" points=\"742.5,-137.5 742.5,-173.5 938.5,-173.5 938.5,-137.5 742.5,-137.5\"/>\n<text text-anchor=\"middle\" x=\"754.5\" y=\"-151.8\" font-family=\"Times,serif\" font-size=\"14.00\" fill=\"#000000\">b</text>\n<polyline fill=\"none\" stroke=\"#000000\" points=\"766.5,-137.5 766.5,-173.5 \"/>\n<text text-anchor=\"middle\" x=\"809\" y=\"-151.8\" font-family=\"Times,serif\" font-size=\"14.00\" fill=\"#000000\">data 6.8814</text>\n<polyline fill=\"none\" stroke=\"#000000\" points=\"851.5,-137.5 851.5,-173.5 \"/>\n<text text-anchor=\"middle\" x=\"895\" y=\"-151.8\" font-family=\"Times,serif\" font-size=\"14.00\" fill=\"#000000\">grad 0.5000</text>\n</g>\n<!-- 140122959688400&#45;&gt;140122959689296+ -->\n<g id=\"edge19\" class=\"edge\">\n<title>140122959688400&#45;&gt;140122959689296+</title>\n<path fill=\"none\" stroke=\"#000000\" d=\"M938.7811,-142.238C964.6496,-138.7473 990.9727,-135.1952 1011.2938,-132.4531\"/>\n<polygon fill=\"#000000\" stroke=\"#000000\" points=\"1011.897,-135.9035 1021.3391,-131.0976 1010.9609,-128.9664 1011.897,-135.9035\"/>\n</g>\n<!-- 140122959690448 -->\n<g id=\"node13\" class=\"node\">\n<title>140122959690448</title>\n<polygon fill=\"none\" stroke=\"#000000\" points=\"1751,-136.5 1751,-172.5 1948,-172.5 1948,-136.5 1751,-136.5\"/>\n<text text-anchor=\"middle\" x=\"1761\" y=\"-150.8\" font-family=\"Times,serif\" font-size=\"14.00\" fill=\"#000000\"> </text>\n<polyline fill=\"none\" stroke=\"#000000\" points=\"1771,-136.5 1771,-172.5 \"/>\n<text text-anchor=\"middle\" x=\"1813.5\" y=\"-150.8\" font-family=\"Times,serif\" font-size=\"14.00\" fill=\"#000000\">data 1.0000</text>\n<polyline fill=\"none\" stroke=\"#000000\" points=\"1856,-136.5 1856,-172.5 \"/>\n<text text-anchor=\"middle\" x=\"1902\" y=\"-150.8\" font-family=\"Times,serif\" font-size=\"14.00\" fill=\"#000000\">grad &#45;0.1036</text>\n</g>\n<!-- 140122959690448&#45;&gt;140122959690512+ -->\n<g id=\"edge22\" class=\"edge\">\n<title>140122959690448&#45;&gt;140122959690512+</title>\n<path fill=\"none\" stroke=\"#000000\" d=\"M1948.0974,-137.4057C1957.5173,-135.7725 1966.5961,-134.1985 1974.7856,-132.7787\"/>\n<polygon fill=\"#000000\" stroke=\"#000000\" points=\"1975.387,-136.2267 1984.6421,-131.0698 1974.1912,-129.3296 1975.387,-136.2267\"/>\n</g>\n<!-- 140122959690192 -->\n<g id=\"node14\" class=\"node\">\n<title>140122959690192</title>\n<polygon fill=\"none\" stroke=\"#000000\" points=\"2307,-53.5 2307,-89.5 2499,-89.5 2499,-53.5 2307,-53.5\"/>\n<text text-anchor=\"middle\" x=\"2317\" y=\"-67.8\" font-family=\"Times,serif\" font-size=\"14.00\" fill=\"#000000\"> </text>\n<polyline fill=\"none\" stroke=\"#000000\" points=\"2327,-53.5 2327,-89.5 \"/>\n<text text-anchor=\"middle\" x=\"2369.5\" y=\"-67.8\" font-family=\"Times,serif\" font-size=\"14.00\" fill=\"#000000\">data 4.8284</text>\n<polyline fill=\"none\" stroke=\"#000000\" points=\"2412,-53.5 2412,-89.5 \"/>\n<text text-anchor=\"middle\" x=\"2455.5\" y=\"-67.8\" font-family=\"Times,serif\" font-size=\"14.00\" fill=\"#000000\">grad 0.1464</text>\n</g>\n<!-- 140122959690192&#45;&gt;140122959691088* -->\n<g id=\"edge20\" class=\"edge\">\n<title>140122959690192&#45;&gt;140122959691088*</title>\n<path fill=\"none\" stroke=\"#000000\" d=\"M2499.1602,-78.2088C2581.1383,-83.9283 2694.6348,-91.8466 2752.6244,-95.8924\"/>\n<polygon fill=\"#000000\" stroke=\"#000000\" points=\"2752.5669,-99.3968 2762.7863,-96.6014 2753.0542,-92.4138 2752.5669,-99.3968\"/>\n</g>\n<!-- 140122959690192+&#45;&gt;140122959690192 -->\n<g id=\"edge6\" class=\"edge\">\n<title>140122959690192+&#45;&gt;140122959690192</title>\n<path fill=\"none\" stroke=\"#000000\" d=\"M2038.2535,-71.5C2090.8629,-71.5 2208.9488,-71.5 2296.5875,-71.5\"/>\n<polygon fill=\"#000000\" stroke=\"#000000\" points=\"2296.8483,-75.0001 2306.8482,-71.5 2296.8482,-68.0001 2296.8483,-75.0001\"/>\n</g>\n<!-- 140122959690512 -->\n<g id=\"node16\" class=\"node\">\n<title>140122959690512</title>\n<polygon fill=\"none\" stroke=\"#000000\" points=\"2074,-108.5 2074,-144.5 2271,-144.5 2271,-108.5 2074,-108.5\"/>\n<text text-anchor=\"middle\" x=\"2084\" y=\"-122.8\" font-family=\"Times,serif\" font-size=\"14.00\" fill=\"#000000\"> </text>\n<polyline fill=\"none\" stroke=\"#000000\" points=\"2094,-108.5 2094,-144.5 \"/>\n<text text-anchor=\"middle\" x=\"2136.5\" y=\"-122.8\" font-family=\"Times,serif\" font-size=\"14.00\" fill=\"#000000\">data 6.8284</text>\n<polyline fill=\"none\" stroke=\"#000000\" points=\"2179,-108.5 2179,-144.5 \"/>\n<text text-anchor=\"middle\" x=\"2225\" y=\"-122.8\" font-family=\"Times,serif\" font-size=\"14.00\" fill=\"#000000\">grad &#45;0.1036</text>\n</g>\n<!-- 140122959690512&#45;&gt;140122959690768**&#45;1 -->\n<g id=\"edge18\" class=\"edge\">\n<title>140122959690512&#45;&gt;140122959690768**&#45;1</title>\n<path fill=\"none\" stroke=\"#000000\" d=\"M2271.2558,-126.5C2304.1184,-126.5 2338.8079,-126.5 2364.3374,-126.5\"/>\n<polygon fill=\"#000000\" stroke=\"#000000\" points=\"2364.3393,-130.0001 2374.3393,-126.5 2364.3392,-123.0001 2364.3393,-130.0001\"/>\n</g>\n<!-- 140122959690512+&#45;&gt;140122959690512 -->\n<g id=\"edge7\" class=\"edge\">\n<title>140122959690512+&#45;&gt;140122959690512</title>\n<path fill=\"none\" stroke=\"#000000\" d=\"M2038.0315,-126.5C2045.6149,-126.5 2054.3553,-126.5 2063.6644,-126.5\"/>\n<polygon fill=\"#000000\" stroke=\"#000000\" points=\"2063.9613,-130.0001 2073.9613,-126.5 2063.9613,-123.0001 2063.9613,-130.0001\"/>\n</g>\n<!-- 140122959687952 -->\n<g id=\"node18\" class=\"node\">\n<title>140122959687952</title>\n<polygon fill=\"none\" stroke=\"#000000\" points=\"3.5,-.5 3.5,-36.5 207.5,-36.5 207.5,-.5 3.5,-.5\"/>\n<text text-anchor=\"middle\" x=\"19.5\" y=\"-14.8\" font-family=\"Times,serif\" font-size=\"14.00\" fill=\"#000000\">x2</text>\n<polyline fill=\"none\" stroke=\"#000000\" points=\"35.5,-.5 35.5,-36.5 \"/>\n<text text-anchor=\"middle\" x=\"78\" y=\"-14.8\" font-family=\"Times,serif\" font-size=\"14.00\" fill=\"#000000\">data 0.0000</text>\n<polyline fill=\"none\" stroke=\"#000000\" points=\"120.5,-.5 120.5,-36.5 \"/>\n<text text-anchor=\"middle\" x=\"164\" y=\"-14.8\" font-family=\"Times,serif\" font-size=\"14.00\" fill=\"#000000\">grad 0.5000</text>\n</g>\n<!-- 140122959687952&#45;&gt;140122959688784* -->\n<g id=\"edge14\" class=\"edge\">\n<title>140122959687952&#45;&gt;140122959688784*</title>\n<path fill=\"none\" stroke=\"#000000\" d=\"M182.3017,-36.5442C192.0361,-39.302 201.8026,-42.3045 211,-45.5 221.6243,-49.1912 232.9373,-53.9452 243.0021,-58.4845\"/>\n<polygon fill=\"#000000\" stroke=\"#000000\" points=\"241.6594,-61.7195 252.2061,-62.729 244.5909,-55.3629 241.6594,-61.7195\"/>\n</g>\n<!-- 140122959691088 -->\n<g id=\"node19\" class=\"node\">\n<title>140122959691088</title>\n<polygon fill=\"none\" stroke=\"#000000\" points=\"2853,-80.5 2853,-116.5 3049,-116.5 3049,-80.5 2853,-80.5\"/>\n<text text-anchor=\"middle\" x=\"2865\" y=\"-94.8\" font-family=\"Times,serif\" font-size=\"14.00\" fill=\"#000000\">o</text>\n<polyline fill=\"none\" stroke=\"#000000\" points=\"2877,-80.5 2877,-116.5 \"/>\n<text text-anchor=\"middle\" x=\"2919.5\" y=\"-94.8\" font-family=\"Times,serif\" font-size=\"14.00\" fill=\"#000000\">data 0.7071</text>\n<polyline fill=\"none\" stroke=\"#000000\" points=\"2962,-80.5 2962,-116.5 \"/>\n<text text-anchor=\"middle\" x=\"3005.5\" y=\"-94.8\" font-family=\"Times,serif\" font-size=\"14.00\" fill=\"#000000\">grad 1.0000</text>\n</g>\n<!-- 140122959691088*&#45;&gt;140122959691088 -->\n<g id=\"edge8\" class=\"edge\">\n<title>140122959691088*&#45;&gt;140122959691088</title>\n<path fill=\"none\" stroke=\"#000000\" d=\"M2817.3115,-98.5C2824.8223,-98.5 2833.4512,-98.5 2842.6318,-98.5\"/>\n<polygon fill=\"#000000\" stroke=\"#000000\" points=\"2842.7835,-102.0001 2852.7835,-98.5 2842.7835,-95.0001 2842.7835,-102.0001\"/>\n</g>\n<!-- 140122959689040 -->\n<g id=\"node21\" class=\"node\">\n<title>140122959689040</title>\n<polygon fill=\"none\" stroke=\"#000000\" points=\"696,-82.5 696,-118.5 985,-118.5 985,-82.5 696,-82.5\"/>\n<text text-anchor=\"middle\" x=\"752.5\" y=\"-96.8\" font-family=\"Times,serif\" font-size=\"14.00\" fill=\"#000000\">x1*w1 + x2*w2</text>\n<polyline fill=\"none\" stroke=\"#000000\" points=\"809,-82.5 809,-118.5 \"/>\n<text text-anchor=\"middle\" x=\"853.5\" y=\"-96.8\" font-family=\"Times,serif\" font-size=\"14.00\" fill=\"#000000\">data &#45;6.0000</text>\n<polyline fill=\"none\" stroke=\"#000000\" points=\"898,-82.5 898,-118.5 \"/>\n<text text-anchor=\"middle\" x=\"941.5\" y=\"-96.8\" font-family=\"Times,serif\" font-size=\"14.00\" fill=\"#000000\">grad 0.5000</text>\n</g>\n<!-- 140122959689040&#45;&gt;140122959689296+ -->\n<g id=\"edge25\" class=\"edge\">\n<title>140122959689040&#45;&gt;140122959689296+</title>\n<path fill=\"none\" stroke=\"#000000\" d=\"M978.9055,-118.5094C990.5887,-120.0296 1001.6094,-121.4636 1011.2737,-122.7212\"/>\n<polygon fill=\"#000000\" stroke=\"#000000\" points=\"1010.8271,-126.1925 1021.1952,-124.0121 1011.7304,-119.251 1010.8271,-126.1925\"/>\n</g>\n<!-- 140122959689040+&#45;&gt;140122959689040 -->\n<g id=\"edge9\" class=\"edge\">\n<title>140122959689040+&#45;&gt;140122959689040</title>\n<path fill=\"none\" stroke=\"#000000\" d=\"M660.127,-100.5C667.628,-100.5 676.3363,-100.5 685.7965,-100.5\"/>\n<polygon fill=\"#000000\" stroke=\"#000000\" points=\"685.9081,-104.0001 695.908,-100.5 685.908,-97.0001 685.9081,-104.0001\"/>\n</g>\n<!-- 140122959688080 -->\n<g id=\"node23\" class=\"node\">\n<title>140122959688080</title>\n<polygon fill=\"none\" stroke=\"#000000\" points=\"0,-165.5 0,-201.5 211,-201.5 211,-165.5 0,-165.5\"/>\n<text text-anchor=\"middle\" x=\"17.5\" y=\"-179.8\" font-family=\"Times,serif\" font-size=\"14.00\" fill=\"#000000\">w1</text>\n<polyline fill=\"none\" stroke=\"#000000\" points=\"35,-165.5 35,-201.5 \"/>\n<text text-anchor=\"middle\" x=\"79.5\" y=\"-179.8\" font-family=\"Times,serif\" font-size=\"14.00\" fill=\"#000000\">data &#45;3.0000</text>\n<polyline fill=\"none\" stroke=\"#000000\" points=\"124,-165.5 124,-201.5 \"/>\n<text text-anchor=\"middle\" x=\"167.5\" y=\"-179.8\" font-family=\"Times,serif\" font-size=\"14.00\" fill=\"#000000\">grad 1.0000</text>\n</g>\n<!-- 140122959688080&#45;&gt;140122959688208* -->\n<g id=\"edge26\" class=\"edge\">\n<title>140122959688080&#45;&gt;140122959688208*</title>\n<path fill=\"none\" stroke=\"#000000\" d=\"M182.3017,-165.4558C192.0361,-162.698 201.8026,-159.6955 211,-156.5 221.6243,-152.8088 232.9373,-148.0548 243.0021,-143.5155\"/>\n<polygon fill=\"#000000\" stroke=\"#000000\" points=\"244.5909,-146.6371 252.2061,-139.271 241.6594,-140.2805 244.5909,-146.6371\"/>\n</g>\n<!-- 140122959688016 -->\n<g id=\"node24\" class=\"node\">\n<title>140122959688016</title>\n<polygon fill=\"none\" stroke=\"#000000\" points=\"1,-110.5 1,-146.5 210,-146.5 210,-110.5 1,-110.5\"/>\n<text text-anchor=\"middle\" x=\"17\" y=\"-124.8\" font-family=\"Times,serif\" font-size=\"14.00\" fill=\"#000000\">x1</text>\n<polyline fill=\"none\" stroke=\"#000000\" points=\"33,-110.5 33,-146.5 \"/>\n<text text-anchor=\"middle\" x=\"75.5\" y=\"-124.8\" font-family=\"Times,serif\" font-size=\"14.00\" fill=\"#000000\">data 2.0000</text>\n<polyline fill=\"none\" stroke=\"#000000\" points=\"118,-110.5 118,-146.5 \"/>\n<text text-anchor=\"middle\" x=\"164\" y=\"-124.8\" font-family=\"Times,serif\" font-size=\"14.00\" fill=\"#000000\">grad &#45;1.5000</text>\n</g>\n<!-- 140122959688016&#45;&gt;140122959688208* -->\n<g id=\"edge17\" class=\"edge\">\n<title>140122959688016&#45;&gt;140122959688208*</title>\n<path fill=\"none\" stroke=\"#000000\" d=\"M210.2974,-128.5C219.6043,-128.5 228.5549,-128.5 236.6562,-128.5\"/>\n<polygon fill=\"#000000\" stroke=\"#000000\" points=\"236.7755,-132.0001 246.7754,-128.5 236.7754,-125.0001 236.7755,-132.0001\"/>\n</g>\n<!-- 140122959689616 -->\n<g id=\"node25\" class=\"node\">\n<title>140122959689616</title>\n<polygon fill=\"none\" stroke=\"#000000\" points=\"1113,-54.5 1113,-90.5 1305,-90.5 1305,-54.5 1113,-54.5\"/>\n<text text-anchor=\"middle\" x=\"1123\" y=\"-68.8\" font-family=\"Times,serif\" font-size=\"14.00\" fill=\"#000000\"> </text>\n<polyline fill=\"none\" stroke=\"#000000\" points=\"1133,-54.5 1133,-90.5 \"/>\n<text text-anchor=\"middle\" x=\"1175.5\" y=\"-68.8\" font-family=\"Times,serif\" font-size=\"14.00\" fill=\"#000000\">data 2.0000</text>\n<polyline fill=\"none\" stroke=\"#000000\" points=\"1218,-54.5 1218,-90.5 \"/>\n<text text-anchor=\"middle\" x=\"1261.5\" y=\"-68.8\" font-family=\"Times,serif\" font-size=\"14.00\" fill=\"#000000\">grad 0.2203</text>\n</g>\n<!-- 140122959689616&#45;&gt;140122959689680* -->\n<g id=\"edge12\" class=\"edge\">\n<title>140122959689616&#45;&gt;140122959689680*</title>\n<path fill=\"none\" stroke=\"#000000\" d=\"M1305.4428,-88.6736C1315.4412,-90.3504 1325.0978,-91.9698 1333.7618,-93.4228\"/>\n<polygon fill=\"#000000\" stroke=\"#000000\" points=\"1333.3527,-96.903 1343.7939,-95.1052 1334.5105,-89.9994 1333.3527,-96.903\"/>\n</g>\n<!-- 140122959690064 -->\n<g id=\"node26\" class=\"node\">\n<title>140122959690064</title>\n<polygon fill=\"none\" stroke=\"#000000\" points=\"1751.5,-26.5 1751.5,-62.5 1947.5,-62.5 1947.5,-26.5 1751.5,-26.5\"/>\n<text text-anchor=\"middle\" x=\"1761.5\" y=\"-40.8\" font-family=\"Times,serif\" font-size=\"14.00\" fill=\"#000000\"> </text>\n<polyline fill=\"none\" stroke=\"#000000\" points=\"1771.5,-26.5 1771.5,-62.5 \"/>\n<text text-anchor=\"middle\" x=\"1816\" y=\"-40.8\" font-family=\"Times,serif\" font-size=\"14.00\" fill=\"#000000\">data &#45;1.0000</text>\n<polyline fill=\"none\" stroke=\"#000000\" points=\"1860.5,-26.5 1860.5,-62.5 \"/>\n<text text-anchor=\"middle\" x=\"1904\" y=\"-40.8\" font-family=\"Times,serif\" font-size=\"14.00\" fill=\"#000000\">grad 0.1464</text>\n</g>\n<!-- 140122959690064&#45;&gt;140122959690192+ -->\n<g id=\"edge21\" class=\"edge\">\n<title>140122959690064&#45;&gt;140122959690192+</title>\n<path fill=\"none\" stroke=\"#000000\" d=\"M1947.6344,-60.9064C1957.2015,-62.5058 1966.4268,-64.0481 1974.738,-65.4376\"/>\n<polygon fill=\"#000000\" stroke=\"#000000\" points=\"1974.2933,-68.9118 1984.7336,-67.1087 1975.4477,-62.0076 1974.2933,-68.9118\"/>\n</g>\n<!-- 140122959689680 -->\n<g id=\"node27\" class=\"node\">\n<title>140122959689680</title>\n<polygon fill=\"none\" stroke=\"#000000\" points=\"1433,-81.5 1433,-117.5 1625,-117.5 1625,-81.5 1433,-81.5\"/>\n<text text-anchor=\"middle\" x=\"1443\" y=\"-95.8\" font-family=\"Times,serif\" font-size=\"14.00\" fill=\"#000000\"> </text>\n<polyline fill=\"none\" stroke=\"#000000\" points=\"1453,-81.5 1453,-117.5 \"/>\n<text text-anchor=\"middle\" x=\"1495.5\" y=\"-95.8\" font-family=\"Times,serif\" font-size=\"14.00\" fill=\"#000000\">data 1.7627</text>\n<polyline fill=\"none\" stroke=\"#000000\" points=\"1538,-81.5 1538,-117.5 \"/>\n<text text-anchor=\"middle\" x=\"1581.5\" y=\"-95.8\" font-family=\"Times,serif\" font-size=\"14.00\" fill=\"#000000\">grad 0.2500</text>\n</g>\n<!-- 140122959689680&#45;&gt;140122959689872exp -->\n<g id=\"edge16\" class=\"edge\">\n<title>140122959689680&#45;&gt;140122959689872exp</title>\n<path fill=\"none\" stroke=\"#000000\" d=\"M1625.159,-99.5C1634.0615,-99.5 1642.6722,-99.5 1650.517,-99.5\"/>\n<polygon fill=\"#000000\" stroke=\"#000000\" points=\"1650.6952,-103.0001 1660.6952,-99.5 1650.6951,-96.0001 1650.6952,-103.0001\"/>\n</g>\n<!-- 140122959689680*&#45;&gt;140122959689680 -->\n<g id=\"edge10\" class=\"edge\">\n<title>140122959689680*&#45;&gt;140122959689680</title>\n<path fill=\"none\" stroke=\"#000000\" d=\"M1397.3331,-99.5C1404.8317,-99.5 1413.4389,-99.5 1422.5849,-99.5\"/>\n<polygon fill=\"#000000\" stroke=\"#000000\" points=\"1422.6939,-103.0001 1432.6939,-99.5 1422.6939,-96.0001 1422.6939,-103.0001\"/>\n</g>\n</g>\n</svg>\n"
          },
          "metadata": {},
          "execution_count": 33
        }
      ]
    },
    {
      "cell_type": "code",
      "source": [
        "def lol():\n",
        "    h = 0.001\n",
        "    a = Value(2.0, label='a')\n",
        "    b = Value(-3.0, label='b')\n",
        "    c = Value(10.0, label='c')\n",
        "    e = a*b; e.label = 'e'\n",
        "    d = e + c; d.label = 'd'\n",
        "    f = Value(-2.0, label='f')\n",
        "    L = d * f; L.label = 'L'\n",
        "    L1 =  L.data\n",
        "\n",
        "    #(a*b+c)*f -> b*f = 6\n",
        "\n",
        "    a = Value(2.0 , label='a')\n",
        "    #a.data +=h\n",
        "    b = Value(-3.0, label='b')\n",
        "    c = Value(10.0, label='c')\n",
        "    e = a*b; e.label = 'e'\n",
        "    d = e + c ; d.label = 'd'\n",
        "    #d.data += h\n",
        "    f = Value(-2.0, label='f')\n",
        "    # f.data +=h\n",
        "    L = d * f; L.label = 'L'\n",
        "    L2 = L.data +h\n",
        "    #derivative of l with respect to a, cos we added h to a\n",
        "    print((L2 - L1)/h)\n",
        "\n",
        "lol()"
      ],
      "metadata": {
        "colab": {
          "base_uri": "https://localhost:8080/"
        },
        "id": "1d1GGSqZN3kX",
        "outputId": "9f2c398b-5ae5-4e5c-a21c-fcf450c49c0c"
      },
      "execution_count": null,
      "outputs": [
        {
          "output_type": "stream",
          "name": "stdout",
          "text": [
            "1.000000000000334\n"
          ]
        }
      ]
    },
    {
      "cell_type": "markdown",
      "source": [
        "# Create NN from scratch"
      ],
      "metadata": {
        "id": "GApADsHX_9W6"
      }
    },
    {
      "cell_type": "code",
      "source": [
        "class Neuron:\n",
        "  \"\"\"\n",
        "  This class will create a neuren, initialize the input, weight, biase\n",
        "           \n",
        "  \"\"\"\n",
        "  \n",
        "  def __init__(self, nin):\n",
        "    self.w = [Value(random.uniform(-1,1)) for _ in range(nin)]\n",
        "    self.b = Value(random.uniform(-1,1))\n",
        "  \n",
        "  def __call__(self, x):\n",
        "    act = sum((wi*xi for wi, xi in zip(self.w, x)), self.b)\n",
        "    out = act.tanh()\n",
        "    return out\n",
        "   \n",
        "  def parameters(self):\n",
        "    return self.w + [self.b]\n",
        "\n",
        "class Layer:\n",
        "  \"\"\"\n",
        "   This class will create a layer\n",
        "  \"\"\"\n",
        "  \n",
        "  def __init__(self, nin, nout):\n",
        "    self.neurons = [Neuron(nin) for _ in range(nout)]\n",
        "  \n",
        "  def __call__(self, x):\n",
        "    outs = [n(x) for n in self.neurons]\n",
        "    return outs[0] if len(outs) == 1 else outs\n",
        "\n",
        "  def parameters(self):\n",
        "    return [p for neuron in self.neurons for p in neuron.parameters()]\n",
        "    # params = []\n",
        "    # for neuron in self.neurons:\n",
        "    #   ps = neuron.parameters()\n",
        "    #   params.extend(ps)\n",
        "    # return params\n",
        "\n",
        "class MLP:\n",
        "    \"\"\"\n",
        "   This class will sum up all\n",
        "  \"\"\"\n",
        "  \n",
        "  def __init__(self, nin, nouts):\n",
        "    sz = [nin] + nouts\n",
        "    #iterate over consecutive pairs\n",
        "    self.layers = [Layer(sz[i], sz[i+1]) for i in range(len(nouts))]\n",
        "  \n",
        "  def __call__(self, x):\n",
        "    for layer in self.layers:\n",
        "      x = layer(x)\n",
        "    return x\n",
        "  def parameters(self):\n",
        "    return [p for layer in self.layers for p in layer.parameters()]\n",
        "\n",
        "\n",
        "x = [2.0, 3.0, -1.0]\n",
        "n = MLP(3, [4, 4, 1])\n",
        "n(x)"
      ],
      "metadata": {
        "colab": {
          "base_uri": "https://localhost:8080/"
        },
        "id": "PydPoCJ07y8V",
        "outputId": "6ed09d8d-73d7-4b83-edf3-bc51c028f9f7"
      },
      "execution_count": null,
      "outputs": [
        {
          "output_type": "execute_result",
          "data": {
            "text/plain": [
              "Value(data=0.6673752193410835)"
            ]
          },
          "metadata": {},
          "execution_count": 48
        }
      ]
    },
    {
      "cell_type": "code",
      "source": [
        "len(n.parameters())"
      ],
      "metadata": {
        "colab": {
          "base_uri": "https://localhost:8080/"
        },
        "id": "1P4JOPYsAEni",
        "outputId": "2f9d8d34-c308-4136-9c68-415c4661e34c"
      },
      "execution_count": null,
      "outputs": [
        {
          "output_type": "execute_result",
          "data": {
            "text/plain": [
              "41"
            ]
          },
          "metadata": {},
          "execution_count": 34
        }
      ]
    },
    {
      "cell_type": "code",
      "source": [
        "xs = [\n",
        "  [2.0, 3.0, -1.0],\n",
        "  [3.0, -1.0, 0.5],\n",
        "  [0.5, 1.0, 1.0],\n",
        "  [1.0, 1.0, -1.0],\n",
        "]\n",
        "ys = [1.0, -1.0, -1.0, 1.0] # desired targets\n",
        "\n"
      ],
      "metadata": {
        "id": "jHXV1V8x2Nuy"
      },
      "execution_count": null,
      "outputs": []
    },
    {
      "cell_type": "code",
      "source": [
        "for k in range(20):\n",
        "  \n",
        "  # forward pass\n",
        "  ypred = [n(x) for x in xs]\n",
        "  #loss: calculate single number that measures the total perfomrmance of the neural net\n",
        "  loss = sum((yout - ygt)**2 for ygt, yout in zip(ys, ypred))\n",
        "  \n",
        "  # backward pass\n",
        "  for p in n.parameters():\n",
        "    p.grad = 0.0\n",
        "  loss.backward()\n",
        "  \n",
        "  # update\n",
        "  for p in n.parameters():\n",
        "    p.data += -0.1 * p.grad\n",
        "  \n",
        "  print(k, loss.data)"
      ],
      "metadata": {
        "colab": {
          "base_uri": "https://localhost:8080/"
        },
        "id": "-RTWeM22J8eQ",
        "outputId": "8209c2da-305e-463e-b261-f5c0078bf1cc"
      },
      "execution_count": null,
      "outputs": [
        {
          "output_type": "stream",
          "name": "stdout",
          "text": [
            "0 1.0040818462427592\n",
            "1 0.6975504836514962\n",
            "2 0.3060217322950291\n",
            "3 0.04177479319591711\n",
            "4 0.03662787031569445\n",
            "5 0.03259885090796627\n",
            "6 0.029348879613488033\n",
            "7 0.02666958755449153\n",
            "8 0.02442277800674944\n",
            "9 0.02251216099629613\n",
            "10 0.02086823004959258\n",
            "11 0.019439426594527423\n",
            "12 0.018186652535829975\n",
            "13 0.017079705843447854\n",
            "14 0.016094883511766155\n",
            "15 0.01521332378430595\n",
            "16 0.014419832538667094\n",
            "17 0.013702035646922215\n",
            "18 0.01304975599988584\n",
            "19 0.012454548529873127\n"
          ]
        }
      ]
    },
    {
      "cell_type": "code",
      "source": [
        "ypred"
      ],
      "metadata": {
        "id": "rVwiZsHQKE1C",
        "outputId": "e659af0e-0813-476d-9231-bcaadddc93c9",
        "colab": {
          "base_uri": "https://localhost:8080/"
        }
      },
      "execution_count": null,
      "outputs": [
        {
          "output_type": "execute_result",
          "data": {
            "text/plain": [
              "[Value(data=0.9638030723059683),\n",
              " Value(data=-0.962442864628128),\n",
              " Value(data=-0.9324275741056551),\n",
              " Value(data=0.9281128676549251)]"
            ]
          },
          "metadata": {},
          "execution_count": 51
        }
      ]
    },
    {
      "cell_type": "markdown",
      "source": [
        "# Create NN using Tourch"
      ],
      "metadata": {
        "id": "fL2z7_SY_veA"
      }
    },
    {
      "cell_type": "code",
      "source": [
        "import torch\n",
        "x1 = torch.Tensor([2.0]).double()                ; x1.requires_grad = True\n",
        "x2 = torch.Tensor([0.0]).double()                ; x2.requires_grad = True\n",
        "w1 = torch.Tensor([-3.0]).double()               ; w1.requires_grad = True\n",
        "w2 = torch.Tensor([1.0]).double()                ; w2.requires_grad = True\n",
        "b = torch.Tensor([6.8813735870195432]).double()  ; b.requires_grad = True\n",
        "n = x1*w1 + x2*w2 + b\n",
        "o = torch.tanh(n)\n",
        "\n",
        "print(o.data.item())\n",
        "o.backward()\n",
        "\n",
        "print('---')\n",
        "print('x2', x2.grad.item())\n",
        "print('w2', w2.grad.item())\n",
        "print('x1', x1.grad.item())\n",
        "print('w1', w1.grad.item())"
      ],
      "metadata": {
        "colab": {
          "base_uri": "https://localhost:8080/"
        },
        "id": "Go_UmQlE37O4",
        "outputId": "1c86eed9-b39c-49d8-b27b-cec672ce6f63"
      },
      "execution_count": null,
      "outputs": [
        {
          "output_type": "stream",
          "name": "stdout",
          "text": [
            "0.7071066904050358\n",
            "---\n",
            "x2 0.5000001283844369\n",
            "w2 0.0\n",
            "x1 -1.5000003851533106\n",
            "w1 1.0000002567688737\n"
          ]
        }
      ]
    }
  ]
}